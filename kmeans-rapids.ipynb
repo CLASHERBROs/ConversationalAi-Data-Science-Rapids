{
 "cells": [
  {
   "cell_type": "code",
   "execution_count": 1,
   "id": "2cecb9d3",
   "metadata": {
    "_cell_guid": "b1076dfc-b9ad-4769-8c92-a6c4dae69d19",
    "_uuid": "8f2839f25d086af736a60e9eeb907d3b93b6e0e5",
    "execution": {
     "iopub.execute_input": "2022-04-18T04:38:05.166698Z",
     "iopub.status.busy": "2022-04-18T04:38:05.166255Z",
     "iopub.status.idle": "2022-04-18T04:38:05.178072Z",
     "shell.execute_reply": "2022-04-18T04:38:05.177411Z"
    },
    "papermill": {
     "duration": 0.027234,
     "end_time": "2022-04-18T04:38:05.182798",
     "exception": false,
     "start_time": "2022-04-18T04:38:05.155564",
     "status": "completed"
    },
    "tags": []
   },
   "outputs": [],
   "source": [
    "# This Python 3 environment comes with many helpful analytics libraries installed\n",
    "# It is defined by the kaggle/python Docker image: https://github.com/kaggle/docker-python\n",
    "# For example, here's several helpful packages to load\n",
    "\n",
    "import numpy as np # linear algebra\n",
    "import pandas as pd # data processing, CSV file I/O (e.g. pd.read_csv)\n",
    "\n",
    "# Input data files are available in the read-only \"../input/\" directory\n",
    "# For example, running this (by clicking run or pressing Shift+Enter) will list all files under the input directory\n",
    "\n",
    "import os\n",
    "for dirname, _, filenames in os.walk('/kaggle/input'):\n",
    "    for filename in filenames:\n",
    "        print(os.path.join(dirname, filename))\n",
    "\n",
    "# You can write up to 20GB to the current directory (/kaggle/working/) that gets preserved as output when you create a version using \"Save & Run All\" \n",
    "# You can also write temporary files to /kaggle/temp/, but they won't be saved outside of the current session"
   ]
  },
  {
   "cell_type": "code",
   "execution_count": 2,
   "id": "5cb792c0",
   "metadata": {
    "execution": {
     "iopub.execute_input": "2022-04-18T04:38:05.214998Z",
     "iopub.status.busy": "2022-04-18T04:38:05.214418Z",
     "iopub.status.idle": "2022-04-18T04:38:08.739851Z",
     "shell.execute_reply": "2022-04-18T04:38:08.739143Z"
    },
    "papermill": {
     "duration": 3.539644,
     "end_time": "2022-04-18T04:38:08.742183",
     "exception": false,
     "start_time": "2022-04-18T04:38:05.202539",
     "status": "completed"
    },
    "tags": []
   },
   "outputs": [],
   "source": [
    "import cudf as pd\n",
    "import cupy as np"
   ]
  },
  {
   "cell_type": "code",
   "execution_count": 3,
   "id": "a454c3c1",
   "metadata": {
    "execution": {
     "iopub.execute_input": "2022-04-18T04:38:08.759405Z",
     "iopub.status.busy": "2022-04-18T04:38:08.759192Z",
     "iopub.status.idle": "2022-04-18T04:38:11.273815Z",
     "shell.execute_reply": "2022-04-18T04:38:11.273133Z"
    },
    "papermill": {
     "duration": 2.526257,
     "end_time": "2022-04-18T04:38:11.276152",
     "exception": false,
     "start_time": "2022-04-18T04:38:08.749895",
     "status": "completed"
    },
    "tags": []
   },
   "outputs": [
    {
     "data": {
      "text/html": [
       "<div>\n",
       "<style scoped>\n",
       "    .dataframe tbody tr th:only-of-type {\n",
       "        vertical-align: middle;\n",
       "    }\n",
       "\n",
       "    .dataframe tbody tr th {\n",
       "        vertical-align: top;\n",
       "    }\n",
       "\n",
       "    .dataframe thead th {\n",
       "        text-align: right;\n",
       "    }\n",
       "</style>\n",
       "<table border=\"1\" class=\"dataframe\">\n",
       "  <thead>\n",
       "    <tr style=\"text-align: right;\">\n",
       "      <th></th>\n",
       "      <th>0</th>\n",
       "      <th>1</th>\n",
       "      <th>2</th>\n",
       "      <th>3</th>\n",
       "    </tr>\n",
       "  </thead>\n",
       "  <tbody>\n",
       "    <tr>\n",
       "      <th>0</th>\n",
       "      <td>5.1</td>\n",
       "      <td>3.5</td>\n",
       "      <td>1.4</td>\n",
       "      <td>0.2</td>\n",
       "    </tr>\n",
       "    <tr>\n",
       "      <th>1</th>\n",
       "      <td>4.9</td>\n",
       "      <td>3.0</td>\n",
       "      <td>1.4</td>\n",
       "      <td>0.2</td>\n",
       "    </tr>\n",
       "    <tr>\n",
       "      <th>2</th>\n",
       "      <td>4.7</td>\n",
       "      <td>3.2</td>\n",
       "      <td>1.3</td>\n",
       "      <td>0.2</td>\n",
       "    </tr>\n",
       "    <tr>\n",
       "      <th>3</th>\n",
       "      <td>4.6</td>\n",
       "      <td>3.1</td>\n",
       "      <td>1.5</td>\n",
       "      <td>0.2</td>\n",
       "    </tr>\n",
       "    <tr>\n",
       "      <th>4</th>\n",
       "      <td>5.0</td>\n",
       "      <td>3.6</td>\n",
       "      <td>1.4</td>\n",
       "      <td>0.2</td>\n",
       "    </tr>\n",
       "  </tbody>\n",
       "</table>\n",
       "</div>"
      ],
      "text/plain": [
       "     0    1    2    3\n",
       "0  5.1  3.5  1.4  0.2\n",
       "1  4.9  3.0  1.4  0.2\n",
       "2  4.7  3.2  1.3  0.2\n",
       "3  4.6  3.1  1.5  0.2\n",
       "4  5.0  3.6  1.4  0.2"
      ]
     },
     "execution_count": 3,
     "metadata": {},
     "output_type": "execute_result"
    }
   ],
   "source": [
    "from sklearn.datasets import load_iris\n",
    "data = load_iris()\n",
    "df=pd.DataFrame(data.data)\n",
    "df.head()"
   ]
  },
  {
   "cell_type": "code",
   "execution_count": 4,
   "id": "03464372",
   "metadata": {
    "execution": {
     "iopub.execute_input": "2022-04-18T04:38:11.293619Z",
     "iopub.status.busy": "2022-04-18T04:38:11.292980Z",
     "iopub.status.idle": "2022-04-18T04:38:11.750097Z",
     "shell.execute_reply": "2022-04-18T04:38:11.749397Z"
    },
    "papermill": {
     "duration": 0.467975,
     "end_time": "2022-04-18T04:38:11.752241",
     "exception": false,
     "start_time": "2022-04-18T04:38:11.284266",
     "status": "completed"
    },
    "tags": []
   },
   "outputs": [],
   "source": [
    "from cuml import KMeans\n",
    "from cuml.cluster import KMeans"
   ]
  },
  {
   "cell_type": "code",
   "execution_count": 5,
   "id": "8d07da65",
   "metadata": {
    "execution": {
     "iopub.execute_input": "2022-04-18T04:38:11.770367Z",
     "iopub.status.busy": "2022-04-18T04:38:11.769683Z",
     "iopub.status.idle": "2022-04-18T04:38:13.163184Z",
     "shell.execute_reply": "2022-04-18T04:38:13.162420Z"
    },
    "papermill": {
     "duration": 1.404665,
     "end_time": "2022-04-18T04:38:13.165277",
     "exception": false,
     "start_time": "2022-04-18T04:38:11.760612",
     "status": "completed"
    },
    "tags": []
   },
   "outputs": [],
   "source": [
    "kmeans_float = KMeans(n_clusters=2)"
   ]
  },
  {
   "cell_type": "code",
   "execution_count": 6,
   "id": "84a8c671",
   "metadata": {
    "execution": {
     "iopub.execute_input": "2022-04-18T04:38:13.182536Z",
     "iopub.status.busy": "2022-04-18T04:38:13.182279Z",
     "iopub.status.idle": "2022-04-18T04:38:13.871003Z",
     "shell.execute_reply": "2022-04-18T04:38:13.870319Z"
    },
    "papermill": {
     "duration": 0.699311,
     "end_time": "2022-04-18T04:38:13.872794",
     "exception": false,
     "start_time": "2022-04-18T04:38:13.173483",
     "status": "completed"
    },
    "tags": []
   },
   "outputs": [
    {
     "data": {
      "text/plain": [
       "KMeans()"
      ]
     },
     "execution_count": 6,
     "metadata": {},
     "output_type": "execute_result"
    }
   ],
   "source": [
    "kmeans_float.fit(df)"
   ]
  },
  {
   "cell_type": "code",
   "execution_count": 7,
   "id": "abf64fb4",
   "metadata": {
    "execution": {
     "iopub.execute_input": "2022-04-18T04:38:13.891177Z",
     "iopub.status.busy": "2022-04-18T04:38:13.890964Z",
     "iopub.status.idle": "2022-04-18T04:38:13.908334Z",
     "shell.execute_reply": "2022-04-18T04:38:13.907518Z"
    },
    "papermill": {
     "duration": 0.029348,
     "end_time": "2022-04-18T04:38:13.910603",
     "exception": false,
     "start_time": "2022-04-18T04:38:13.881255",
     "status": "completed"
    },
    "tags": []
   },
   "outputs": [
    {
     "name": "stdout",
     "output_type": "stream",
     "text": [
      "labels:\n",
      "0      1\n",
      "1      1\n",
      "2      1\n",
      "3      1\n",
      "4      1\n",
      "      ..\n",
      "145    0\n",
      "146    0\n",
      "147    0\n",
      "148    0\n",
      "149    0\n",
      "Length: 150, dtype: int32\n",
      "cluster_centers:\n",
      "          0         1         2         3\n",
      "0  6.301031  2.886598  4.958763  1.695876\n",
      "1  5.005660  3.369811  1.560377  0.290566\n"
     ]
    }
   ],
   "source": [
    "print(\"labels:\")\n",
    "print(kmeans_float.labels_)\n",
    "print(\"cluster_centers:\")\n",
    "print(kmeans_float.cluster_centers_)"
   ]
  },
  {
   "cell_type": "code",
   "execution_count": null,
   "id": "7f9e25e6",
   "metadata": {
    "papermill": {
     "duration": 0.008525,
     "end_time": "2022-04-18T04:38:13.927662",
     "exception": false,
     "start_time": "2022-04-18T04:38:13.919137",
     "status": "completed"
    },
    "tags": []
   },
   "outputs": [],
   "source": []
  }
 ],
 "metadata": {
  "kernelspec": {
   "display_name": "Python 3",
   "language": "python",
   "name": "python3"
  },
  "language_info": {
   "codemirror_mode": {
    "name": "ipython",
    "version": 3
   },
   "file_extension": ".py",
   "mimetype": "text/x-python",
   "name": "python",
   "nbconvert_exporter": "python",
   "pygments_lexer": "ipython3",
   "version": "3.7.12"
  },
  "papermill": {
   "default_parameters": {},
   "duration": 17.915728,
   "end_time": "2022-04-18T04:38:15.156618",
   "environment_variables": {},
   "exception": null,
   "input_path": "__notebook__.ipynb",
   "output_path": "__notebook__.ipynb",
   "parameters": {},
   "start_time": "2022-04-18T04:37:57.240890",
   "version": "2.3.4"
  }
 },
 "nbformat": 4,
 "nbformat_minor": 5
}
