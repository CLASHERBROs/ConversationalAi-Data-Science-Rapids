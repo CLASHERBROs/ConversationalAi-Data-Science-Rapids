{
 "cells": [
  {
   "cell_type": "code",
   "execution_count": 1,
   "id": "4b212d4b",
   "metadata": {
    "_cell_guid": "b1076dfc-b9ad-4769-8c92-a6c4dae69d19",
    "_uuid": "8f2839f25d086af736a60e9eeb907d3b93b6e0e5",
    "execution": {
     "iopub.execute_input": "2022-02-14T05:03:10.314390Z",
     "iopub.status.busy": "2022-02-14T05:03:10.312916Z",
     "iopub.status.idle": "2022-02-14T05:03:16.318054Z",
     "shell.execute_reply": "2022-02-14T05:03:16.317529Z",
     "shell.execute_reply.started": "2022-02-14T04:58:50.755581Z"
    },
    "papermill": {
     "duration": 6.01957,
     "end_time": "2022-02-14T05:03:16.318222",
     "exception": false,
     "start_time": "2022-02-14T05:03:10.298652",
     "status": "completed"
    },
    "tags": []
   },
   "outputs": [
    {
     "data": {
      "text/html": [
       "<div>\n",
       "<style scoped>\n",
       "    .dataframe tbody tr th:only-of-type {\n",
       "        vertical-align: middle;\n",
       "    }\n",
       "\n",
       "    .dataframe tbody tr th {\n",
       "        vertical-align: top;\n",
       "    }\n",
       "\n",
       "    .dataframe thead th {\n",
       "        text-align: right;\n",
       "    }\n",
       "</style>\n",
       "<table border=\"1\" class=\"dataframe\">\n",
       "  <thead>\n",
       "    <tr style=\"text-align: right;\">\n",
       "      <th></th>\n",
       "      <th>CRIM</th>\n",
       "      <th>ZN</th>\n",
       "      <th>INDUS</th>\n",
       "      <th>CHAS</th>\n",
       "      <th>NOX</th>\n",
       "      <th>RM</th>\n",
       "      <th>AGE</th>\n",
       "      <th>DIS</th>\n",
       "      <th>RAD</th>\n",
       "      <th>TAX</th>\n",
       "      <th>PTRATIO</th>\n",
       "      <th>B</th>\n",
       "      <th>LSTAT</th>\n",
       "      <th>target</th>\n",
       "    </tr>\n",
       "  </thead>\n",
       "  <tbody>\n",
       "    <tr>\n",
       "      <th>0</th>\n",
       "      <td>0.00632</td>\n",
       "      <td>18.0</td>\n",
       "      <td>2.31</td>\n",
       "      <td>0.0</td>\n",
       "      <td>0.538</td>\n",
       "      <td>6.575</td>\n",
       "      <td>65.2</td>\n",
       "      <td>4.0900</td>\n",
       "      <td>1.0</td>\n",
       "      <td>296.0</td>\n",
       "      <td>15.3</td>\n",
       "      <td>396.90</td>\n",
       "      <td>4.98</td>\n",
       "      <td>24.0</td>\n",
       "    </tr>\n",
       "    <tr>\n",
       "      <th>1</th>\n",
       "      <td>0.02731</td>\n",
       "      <td>0.0</td>\n",
       "      <td>7.07</td>\n",
       "      <td>0.0</td>\n",
       "      <td>0.469</td>\n",
       "      <td>6.421</td>\n",
       "      <td>78.9</td>\n",
       "      <td>4.9671</td>\n",
       "      <td>2.0</td>\n",
       "      <td>242.0</td>\n",
       "      <td>17.8</td>\n",
       "      <td>396.90</td>\n",
       "      <td>9.14</td>\n",
       "      <td>21.6</td>\n",
       "    </tr>\n",
       "    <tr>\n",
       "      <th>2</th>\n",
       "      <td>0.02729</td>\n",
       "      <td>0.0</td>\n",
       "      <td>7.07</td>\n",
       "      <td>0.0</td>\n",
       "      <td>0.469</td>\n",
       "      <td>7.185</td>\n",
       "      <td>61.1</td>\n",
       "      <td>4.9671</td>\n",
       "      <td>2.0</td>\n",
       "      <td>242.0</td>\n",
       "      <td>17.8</td>\n",
       "      <td>392.83</td>\n",
       "      <td>4.03</td>\n",
       "      <td>34.7</td>\n",
       "    </tr>\n",
       "    <tr>\n",
       "      <th>3</th>\n",
       "      <td>0.03237</td>\n",
       "      <td>0.0</td>\n",
       "      <td>2.18</td>\n",
       "      <td>0.0</td>\n",
       "      <td>0.458</td>\n",
       "      <td>6.998</td>\n",
       "      <td>45.8</td>\n",
       "      <td>6.0622</td>\n",
       "      <td>3.0</td>\n",
       "      <td>222.0</td>\n",
       "      <td>18.7</td>\n",
       "      <td>394.63</td>\n",
       "      <td>2.94</td>\n",
       "      <td>33.4</td>\n",
       "    </tr>\n",
       "    <tr>\n",
       "      <th>4</th>\n",
       "      <td>0.06905</td>\n",
       "      <td>0.0</td>\n",
       "      <td>2.18</td>\n",
       "      <td>0.0</td>\n",
       "      <td>0.458</td>\n",
       "      <td>7.147</td>\n",
       "      <td>54.2</td>\n",
       "      <td>6.0622</td>\n",
       "      <td>3.0</td>\n",
       "      <td>222.0</td>\n",
       "      <td>18.7</td>\n",
       "      <td>396.90</td>\n",
       "      <td>5.33</td>\n",
       "      <td>36.2</td>\n",
       "    </tr>\n",
       "  </tbody>\n",
       "</table>\n",
       "</div>"
      ],
      "text/plain": [
       "      CRIM    ZN  INDUS  CHAS    NOX     RM   AGE     DIS  RAD    TAX  \\\n",
       "0  0.00632  18.0   2.31   0.0  0.538  6.575  65.2  4.0900  1.0  296.0   \n",
       "1  0.02731   0.0   7.07   0.0  0.469  6.421  78.9  4.9671  2.0  242.0   \n",
       "2  0.02729   0.0   7.07   0.0  0.469  7.185  61.1  4.9671  2.0  242.0   \n",
       "3  0.03237   0.0   2.18   0.0  0.458  6.998  45.8  6.0622  3.0  222.0   \n",
       "4  0.06905   0.0   2.18   0.0  0.458  7.147  54.2  6.0622  3.0  222.0   \n",
       "\n",
       "   PTRATIO       B  LSTAT  target  \n",
       "0     15.3  396.90   4.98    24.0  \n",
       "1     17.8  396.90   9.14    21.6  \n",
       "2     17.8  392.83   4.03    34.7  \n",
       "3     18.7  394.63   2.94    33.4  \n",
       "4     18.7  396.90   5.33    36.2  "
      ]
     },
     "execution_count": 1,
     "metadata": {},
     "output_type": "execute_result"
    }
   ],
   "source": [
    "import cudf as pd\n",
    "from sklearn.datasets import load_boston\n",
    "boston = load_boston()\n",
    "df = pd.DataFrame(data=boston.data, columns = ['CRIM', 'ZN', 'INDUS', 'CHAS', 'NOX', 'RM', 'AGE', 'DIS', 'RAD',\n",
    "        'TAX', 'PTRATIO', 'B', 'LSTAT'])\n",
    "df['target'] = boston.target\n",
    "df.head(5)"
   ]
  },
  {
   "cell_type": "code",
   "execution_count": 2,
   "id": "2d4acf71",
   "metadata": {
    "execution": {
     "iopub.execute_input": "2022-02-14T05:03:16.347898Z",
     "iopub.status.busy": "2022-02-14T05:03:16.347078Z",
     "iopub.status.idle": "2022-02-14T05:03:16.584643Z",
     "shell.execute_reply": "2022-02-14T05:03:16.583611Z",
     "shell.execute_reply.started": "2022-02-14T04:58:51.060638Z"
    },
    "papermill": {
     "duration": 0.254539,
     "end_time": "2022-02-14T05:03:16.584774",
     "exception": false,
     "start_time": "2022-02-14T05:03:16.330235",
     "status": "completed"
    },
    "tags": []
   },
   "outputs": [],
   "source": [
    "import cupy as np\n",
    "X=df.iloc[:,0:13]\n",
    "Y=df.iloc[:,13]\n",
    "Y=np.array(Y)\n",
    "Y=Y.reshape(-1,1)"
   ]
  },
  {
   "cell_type": "code",
   "execution_count": 3,
   "id": "59bc71d3",
   "metadata": {
    "execution": {
     "iopub.execute_input": "2022-02-14T05:03:16.610266Z",
     "iopub.status.busy": "2022-02-14T05:03:16.609469Z",
     "iopub.status.idle": "2022-02-14T05:03:16.614357Z",
     "shell.execute_reply": "2022-02-14T05:03:16.613906Z",
     "shell.execute_reply.started": "2022-02-14T04:58:51.567619Z"
    },
    "papermill": {
     "duration": 0.019806,
     "end_time": "2022-02-14T05:03:16.614468",
     "exception": false,
     "start_time": "2022-02-14T05:03:16.594662",
     "status": "completed"
    },
    "tags": []
   },
   "outputs": [],
   "source": [
    "from sklearn.preprocessing import StandardScaler\n",
    "scaler=StandardScaler()\n",
    "X_scaled=scaler.fit_transform(X.as_matrix())"
   ]
  },
  {
   "cell_type": "code",
   "execution_count": 4,
   "id": "5a33803c",
   "metadata": {
    "execution": {
     "iopub.execute_input": "2022-02-14T05:03:16.638924Z",
     "iopub.status.busy": "2022-02-14T05:03:16.638199Z",
     "iopub.status.idle": "2022-02-14T05:03:16.641028Z",
     "shell.execute_reply": "2022-02-14T05:03:16.641454Z",
     "shell.execute_reply.started": "2022-02-14T04:58:52.124560Z"
    },
    "papermill": {
     "duration": 0.017479,
     "end_time": "2022-02-14T05:03:16.641569",
     "exception": false,
     "start_time": "2022-02-14T05:03:16.624090",
     "status": "completed"
    },
    "tags": []
   },
   "outputs": [
    {
     "data": {
      "text/plain": [
       "array([[-0.41978194,  0.28482986, -1.2879095 , ..., -1.45900038,\n",
       "         0.44105193, -1.0755623 ],\n",
       "       [-0.41733926, -0.48772236, -0.59338101, ..., -0.30309415,\n",
       "         0.44105193, -0.49243937],\n",
       "       [-0.41734159, -0.48772236, -0.59338101, ..., -0.30309415,\n",
       "         0.39642699, -1.2087274 ],\n",
       "       ...,\n",
       "       [-0.41344658, -0.48772236,  0.11573841, ...,  1.17646583,\n",
       "         0.44105193, -0.98304761],\n",
       "       [-0.40776407, -0.48772236,  0.11573841, ...,  1.17646583,\n",
       "         0.4032249 , -0.86530163],\n",
       "       [-0.41500016, -0.48772236,  0.11573841, ...,  1.17646583,\n",
       "         0.44105193, -0.66905833]])"
      ]
     },
     "execution_count": 4,
     "metadata": {},
     "output_type": "execute_result"
    }
   ],
   "source": [
    "X_scaled"
   ]
  },
  {
   "cell_type": "code",
   "execution_count": 5,
   "id": "a9a13604",
   "metadata": {
    "execution": {
     "iopub.execute_input": "2022-02-14T05:03:16.667014Z",
     "iopub.status.busy": "2022-02-14T05:03:16.664021Z",
     "iopub.status.idle": "2022-02-14T05:03:16.938520Z",
     "shell.execute_reply": "2022-02-14T05:03:16.937990Z",
     "shell.execute_reply.started": "2022-02-14T04:58:52.887154Z"
    },
    "papermill": {
     "duration": 0.286756,
     "end_time": "2022-02-14T05:03:16.938642",
     "exception": false,
     "start_time": "2022-02-14T05:03:16.651886",
     "status": "completed"
    },
    "tags": []
   },
   "outputs": [],
   "source": [
    "from sklearn.model_selection import train_test_split\n",
    "X_train, X_test, y_train, y_test = train_test_split(X_scaled, Y, test_size=0.3, random_state=42)"
   ]
  },
  {
   "cell_type": "code",
   "execution_count": 6,
   "id": "2f57e361",
   "metadata": {
    "execution": {
     "iopub.execute_input": "2022-02-14T05:03:16.963539Z",
     "iopub.status.busy": "2022-02-14T05:03:16.962695Z",
     "iopub.status.idle": "2022-02-14T05:03:16.968413Z",
     "shell.execute_reply": "2022-02-14T05:03:16.967769Z",
     "shell.execute_reply.started": "2022-02-14T04:58:53.686146Z"
    },
    "papermill": {
     "duration": 0.019609,
     "end_time": "2022-02-14T05:03:16.968549",
     "exception": false,
     "start_time": "2022-02-14T05:03:16.948940",
     "status": "completed"
    },
    "tags": []
   },
   "outputs": [
    {
     "name": "stdout",
     "output_type": "stream",
     "text": [
      "(354, 13)\n",
      "(152, 13)\n",
      "(354, 1)\n",
      "(152, 1)\n"
     ]
    }
   ],
   "source": [
    "print(X_train.shape)\n",
    "print(X_test.shape)\n",
    "print(y_train.shape)\n",
    "print(y_test.shape)"
   ]
  },
  {
   "cell_type": "code",
   "execution_count": 7,
   "id": "92037640",
   "metadata": {
    "execution": {
     "iopub.execute_input": "2022-02-14T05:03:16.993551Z",
     "iopub.status.busy": "2022-02-14T05:03:16.992889Z",
     "iopub.status.idle": "2022-02-14T05:03:17.435904Z",
     "shell.execute_reply": "2022-02-14T05:03:17.435253Z",
     "shell.execute_reply.started": "2022-02-14T04:58:54.600305Z"
    },
    "papermill": {
     "duration": 0.456502,
     "end_time": "2022-02-14T05:03:17.436095",
     "exception": false,
     "start_time": "2022-02-14T05:03:16.979593",
     "status": "completed"
    },
    "tags": []
   },
   "outputs": [],
   "source": [
    "from cuml import LinearRegression"
   ]
  },
  {
   "cell_type": "code",
   "execution_count": 8,
   "id": "dc64cf02",
   "metadata": {
    "execution": {
     "iopub.execute_input": "2022-02-14T05:03:17.461829Z",
     "iopub.status.busy": "2022-02-14T05:03:17.461096Z",
     "iopub.status.idle": "2022-02-14T05:03:17.463904Z",
     "shell.execute_reply": "2022-02-14T05:03:17.463491Z",
     "shell.execute_reply.started": "2022-02-14T04:58:55.367853Z"
    },
    "papermill": {
     "duration": 0.017089,
     "end_time": "2022-02-14T05:03:17.464006",
     "exception": false,
     "start_time": "2022-02-14T05:03:17.446917",
     "status": "completed"
    },
    "tags": []
   },
   "outputs": [],
   "source": [
    "method=['svd','eig','qr','svd-qr','svd-jacobi']\n"
   ]
  },
  {
   "cell_type": "code",
   "execution_count": 9,
   "id": "4317019f",
   "metadata": {
    "execution": {
     "iopub.execute_input": "2022-02-14T05:03:18.780819Z",
     "iopub.status.busy": "2022-02-14T05:03:18.779718Z",
     "iopub.status.idle": "2022-02-14T05:03:22.326059Z",
     "shell.execute_reply": "2022-02-14T05:03:22.325557Z",
     "shell.execute_reply.started": "2022-02-14T04:58:55.598563Z"
    },
    "papermill": {
     "duration": 4.851964,
     "end_time": "2022-02-14T05:03:22.326213",
     "exception": false,
     "start_time": "2022-02-14T05:03:17.474249",
     "status": "completed"
    },
    "tags": []
   },
   "outputs": [
    {
     "name": "stdout",
     "output_type": "stream",
     "text": [
      "Algorithm of svd Gives mean absolute error of 8.983415627235024Mean squared error of 139.59932404504897 R2score of 0.7112260057484925\n",
      "Algorithm of eig Gives mean absolute error of 8.983415627235035Mean squared error of 139.59932404504923 R2score of 0.711226005748492\n",
      "Algorithm of qr Gives mean absolute error of 8.983415627235024Mean squared error of 139.59932404504897 R2score of 0.7112260057484925\n",
      "Algorithm of svd-qr Gives mean absolute error of 6.538584813856789Mean squared error of 77.29709884147577 R2score of -0.06387682173517528\n",
      "Algorithm of svd-jacobi Gives mean absolute error of 6.538584813856789Mean squared error of 77.29709884147577 R2score of -0.06387682173517528\n"
     ]
    }
   ],
   "source": [
    "for i in method:\n",
    "    lr = LinearRegression(fit_intercept = True, normalize = False,\n",
    "                      algorithm = i) #svd’, ‘eig’, qr, ‘svd-qr’, ‘svd-jacobi’\n",
    "    reg = lr.fit(X_train,y_train)\n",
    "    preds = lr.predict(X_test)\n",
    "    import cuml\n",
    "    msq=cuml.metrics.regression.mean_squared_error(y_test,preds)\n",
    "    r2=cuml.metrics.regression.r2_score(y_test,preds)\n",
    "    err=cuml.metrics.regression.mean_absolute_error(y_test,preds)\n",
    "    print('Algorithm of '+i+' Gives mean absolute error of '+str(err)+ 'Mean squared error of '+str(msq)+' R2score of '+str(r2))"
   ]
  },
  {
   "cell_type": "code",
   "execution_count": null,
   "id": "af3ad491",
   "metadata": {
    "papermill": {
     "duration": 0.010773,
     "end_time": "2022-02-14T05:03:22.348005",
     "exception": false,
     "start_time": "2022-02-14T05:03:22.337232",
     "status": "completed"
    },
    "tags": []
   },
   "outputs": [],
   "source": []
  }
 ],
 "metadata": {
  "kernelspec": {
   "display_name": "Python 3",
   "language": "python",
   "name": "python3"
  },
  "language_info": {
   "codemirror_mode": {
    "name": "ipython",
    "version": 3
   },
   "file_extension": ".py",
   "mimetype": "text/x-python",
   "name": "python",
   "nbconvert_exporter": "python",
   "pygments_lexer": "ipython3",
   "version": "3.7.12"
  },
  "papermill": {
   "default_parameters": {},
   "duration": 22.324412,
   "end_time": "2022-02-14T05:03:24.673875",
   "environment_variables": {},
   "exception": null,
   "input_path": "__notebook__.ipynb",
   "output_path": "__notebook__.ipynb",
   "parameters": {},
   "start_time": "2022-02-14T05:03:02.349463",
   "version": "2.3.3"
  }
 },
 "nbformat": 4,
 "nbformat_minor": 5
}
