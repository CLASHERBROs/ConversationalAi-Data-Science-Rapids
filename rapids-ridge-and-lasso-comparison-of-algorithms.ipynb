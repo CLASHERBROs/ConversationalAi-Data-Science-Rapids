{
 "cells": [
  {
   "cell_type": "code",
   "execution_count": 1,
   "id": "f765da4c",
   "metadata": {
    "_cell_guid": "b1076dfc-b9ad-4769-8c92-a6c4dae69d19",
    "_uuid": "8f2839f25d086af736a60e9eeb907d3b93b6e0e5",
    "execution": {
     "iopub.execute_input": "2022-02-21T05:11:47.239974Z",
     "iopub.status.busy": "2022-02-21T05:11:47.238475Z",
     "iopub.status.idle": "2022-02-21T05:11:53.255499Z",
     "shell.execute_reply": "2022-02-21T05:11:53.256034Z",
     "shell.execute_reply.started": "2022-02-21T05:09:11.447357Z"
    },
    "papermill": {
     "duration": 6.037958,
     "end_time": "2022-02-21T05:11:53.256278",
     "exception": false,
     "start_time": "2022-02-21T05:11:47.218320",
     "status": "completed"
    },
    "tags": []
   },
   "outputs": [
    {
     "data": {
      "text/html": [
       "<div>\n",
       "<style scoped>\n",
       "    .dataframe tbody tr th:only-of-type {\n",
       "        vertical-align: middle;\n",
       "    }\n",
       "\n",
       "    .dataframe tbody tr th {\n",
       "        vertical-align: top;\n",
       "    }\n",
       "\n",
       "    .dataframe thead th {\n",
       "        text-align: right;\n",
       "    }\n",
       "</style>\n",
       "<table border=\"1\" class=\"dataframe\">\n",
       "  <thead>\n",
       "    <tr style=\"text-align: right;\">\n",
       "      <th></th>\n",
       "      <th>CRIM</th>\n",
       "      <th>ZN</th>\n",
       "      <th>INDUS</th>\n",
       "      <th>CHAS</th>\n",
       "      <th>NOX</th>\n",
       "      <th>RM</th>\n",
       "      <th>AGE</th>\n",
       "      <th>DIS</th>\n",
       "      <th>RAD</th>\n",
       "      <th>TAX</th>\n",
       "      <th>PTRATIO</th>\n",
       "      <th>B</th>\n",
       "      <th>LSTAT</th>\n",
       "      <th>target</th>\n",
       "    </tr>\n",
       "  </thead>\n",
       "  <tbody>\n",
       "    <tr>\n",
       "      <th>0</th>\n",
       "      <td>0.00632</td>\n",
       "      <td>18.0</td>\n",
       "      <td>2.31</td>\n",
       "      <td>0.0</td>\n",
       "      <td>0.538</td>\n",
       "      <td>6.575</td>\n",
       "      <td>65.2</td>\n",
       "      <td>4.0900</td>\n",
       "      <td>1.0</td>\n",
       "      <td>296.0</td>\n",
       "      <td>15.3</td>\n",
       "      <td>396.90</td>\n",
       "      <td>4.98</td>\n",
       "      <td>24.0</td>\n",
       "    </tr>\n",
       "    <tr>\n",
       "      <th>1</th>\n",
       "      <td>0.02731</td>\n",
       "      <td>0.0</td>\n",
       "      <td>7.07</td>\n",
       "      <td>0.0</td>\n",
       "      <td>0.469</td>\n",
       "      <td>6.421</td>\n",
       "      <td>78.9</td>\n",
       "      <td>4.9671</td>\n",
       "      <td>2.0</td>\n",
       "      <td>242.0</td>\n",
       "      <td>17.8</td>\n",
       "      <td>396.90</td>\n",
       "      <td>9.14</td>\n",
       "      <td>21.6</td>\n",
       "    </tr>\n",
       "    <tr>\n",
       "      <th>2</th>\n",
       "      <td>0.02729</td>\n",
       "      <td>0.0</td>\n",
       "      <td>7.07</td>\n",
       "      <td>0.0</td>\n",
       "      <td>0.469</td>\n",
       "      <td>7.185</td>\n",
       "      <td>61.1</td>\n",
       "      <td>4.9671</td>\n",
       "      <td>2.0</td>\n",
       "      <td>242.0</td>\n",
       "      <td>17.8</td>\n",
       "      <td>392.83</td>\n",
       "      <td>4.03</td>\n",
       "      <td>34.7</td>\n",
       "    </tr>\n",
       "    <tr>\n",
       "      <th>3</th>\n",
       "      <td>0.03237</td>\n",
       "      <td>0.0</td>\n",
       "      <td>2.18</td>\n",
       "      <td>0.0</td>\n",
       "      <td>0.458</td>\n",
       "      <td>6.998</td>\n",
       "      <td>45.8</td>\n",
       "      <td>6.0622</td>\n",
       "      <td>3.0</td>\n",
       "      <td>222.0</td>\n",
       "      <td>18.7</td>\n",
       "      <td>394.63</td>\n",
       "      <td>2.94</td>\n",
       "      <td>33.4</td>\n",
       "    </tr>\n",
       "    <tr>\n",
       "      <th>4</th>\n",
       "      <td>0.06905</td>\n",
       "      <td>0.0</td>\n",
       "      <td>2.18</td>\n",
       "      <td>0.0</td>\n",
       "      <td>0.458</td>\n",
       "      <td>7.147</td>\n",
       "      <td>54.2</td>\n",
       "      <td>6.0622</td>\n",
       "      <td>3.0</td>\n",
       "      <td>222.0</td>\n",
       "      <td>18.7</td>\n",
       "      <td>396.90</td>\n",
       "      <td>5.33</td>\n",
       "      <td>36.2</td>\n",
       "    </tr>\n",
       "  </tbody>\n",
       "</table>\n",
       "</div>"
      ],
      "text/plain": [
       "      CRIM    ZN  INDUS  CHAS    NOX     RM   AGE     DIS  RAD    TAX  \\\n",
       "0  0.00632  18.0   2.31   0.0  0.538  6.575  65.2  4.0900  1.0  296.0   \n",
       "1  0.02731   0.0   7.07   0.0  0.469  6.421  78.9  4.9671  2.0  242.0   \n",
       "2  0.02729   0.0   7.07   0.0  0.469  7.185  61.1  4.9671  2.0  242.0   \n",
       "3  0.03237   0.0   2.18   0.0  0.458  6.998  45.8  6.0622  3.0  222.0   \n",
       "4  0.06905   0.0   2.18   0.0  0.458  7.147  54.2  6.0622  3.0  222.0   \n",
       "\n",
       "   PTRATIO       B  LSTAT  target  \n",
       "0     15.3  396.90   4.98    24.0  \n",
       "1     17.8  396.90   9.14    21.6  \n",
       "2     17.8  392.83   4.03    34.7  \n",
       "3     18.7  394.63   2.94    33.4  \n",
       "4     18.7  396.90   5.33    36.2  "
      ]
     },
     "execution_count": 1,
     "metadata": {},
     "output_type": "execute_result"
    }
   ],
   "source": [
    "import cudf as pd\n",
    "from sklearn.datasets import load_boston\n",
    "boston = load_boston()\n",
    "df = pd.DataFrame(data=boston.data, columns = ['CRIM', 'ZN', 'INDUS', 'CHAS', 'NOX', 'RM', 'AGE', 'DIS', 'RAD',\n",
    "        'TAX', 'PTRATIO', 'B', 'LSTAT'])\n",
    "df['target'] = boston.target\n",
    "df.head(5)"
   ]
  },
  {
   "cell_type": "code",
   "execution_count": 2,
   "id": "595a3d31",
   "metadata": {
    "execution": {
     "iopub.execute_input": "2022-02-21T05:11:53.296632Z",
     "iopub.status.busy": "2022-02-21T05:11:53.295757Z",
     "iopub.status.idle": "2022-02-21T05:11:53.527940Z",
     "shell.execute_reply": "2022-02-21T05:11:53.528475Z",
     "shell.execute_reply.started": "2022-02-21T05:09:11.627296Z"
    },
    "papermill": {
     "duration": 0.255604,
     "end_time": "2022-02-21T05:11:53.528628",
     "exception": false,
     "start_time": "2022-02-21T05:11:53.273024",
     "status": "completed"
    },
    "tags": []
   },
   "outputs": [],
   "source": [
    "import cupy as np\n",
    "X=df.iloc[:,0:13]\n",
    "Y=df.iloc[:,13]\n",
    "Y=np.array(Y)\n",
    "Y=Y.reshape(-1,1)"
   ]
  },
  {
   "cell_type": "code",
   "execution_count": 3,
   "id": "233565ba",
   "metadata": {
    "execution": {
     "iopub.execute_input": "2022-02-21T05:11:53.565159Z",
     "iopub.status.busy": "2022-02-21T05:11:53.564346Z",
     "iopub.status.idle": "2022-02-21T05:11:53.569292Z",
     "shell.execute_reply": "2022-02-21T05:11:53.568740Z",
     "shell.execute_reply.started": "2022-02-21T05:09:11.807929Z"
    },
    "papermill": {
     "duration": 0.024559,
     "end_time": "2022-02-21T05:11:53.569401",
     "exception": false,
     "start_time": "2022-02-21T05:11:53.544842",
     "status": "completed"
    },
    "tags": []
   },
   "outputs": [],
   "source": [
    "from sklearn.preprocessing import StandardScaler\n",
    "scaler=StandardScaler()\n",
    "X_scaled=scaler.fit_transform(X.as_matrix())"
   ]
  },
  {
   "cell_type": "code",
   "execution_count": 4,
   "id": "56b2df6d",
   "metadata": {
    "execution": {
     "iopub.execute_input": "2022-02-21T05:11:53.606340Z",
     "iopub.status.busy": "2022-02-21T05:11:53.605682Z",
     "iopub.status.idle": "2022-02-21T05:11:53.608218Z",
     "shell.execute_reply": "2022-02-21T05:11:53.608682Z",
     "shell.execute_reply.started": "2022-02-21T05:09:11.987684Z"
    },
    "papermill": {
     "duration": 0.02352,
     "end_time": "2022-02-21T05:11:53.608793",
     "exception": false,
     "start_time": "2022-02-21T05:11:53.585273",
     "status": "completed"
    },
    "tags": []
   },
   "outputs": [
    {
     "data": {
      "text/plain": [
       "array([[-0.41978194,  0.28482986, -1.2879095 , ..., -1.45900038,\n",
       "         0.44105193, -1.0755623 ],\n",
       "       [-0.41733926, -0.48772236, -0.59338101, ..., -0.30309415,\n",
       "         0.44105193, -0.49243937],\n",
       "       [-0.41734159, -0.48772236, -0.59338101, ..., -0.30309415,\n",
       "         0.39642699, -1.2087274 ],\n",
       "       ...,\n",
       "       [-0.41344658, -0.48772236,  0.11573841, ...,  1.17646583,\n",
       "         0.44105193, -0.98304761],\n",
       "       [-0.40776407, -0.48772236,  0.11573841, ...,  1.17646583,\n",
       "         0.4032249 , -0.86530163],\n",
       "       [-0.41500016, -0.48772236,  0.11573841, ...,  1.17646583,\n",
       "         0.44105193, -0.66905833]])"
      ]
     },
     "execution_count": 4,
     "metadata": {},
     "output_type": "execute_result"
    }
   ],
   "source": [
    "X_scaled"
   ]
  },
  {
   "cell_type": "code",
   "execution_count": 5,
   "id": "41167f9e",
   "metadata": {
    "execution": {
     "iopub.execute_input": "2022-02-21T05:11:53.646408Z",
     "iopub.status.busy": "2022-02-21T05:11:53.645218Z",
     "iopub.status.idle": "2022-02-21T05:11:53.909568Z",
     "shell.execute_reply": "2022-02-21T05:11:53.908790Z",
     "shell.execute_reply.started": "2022-02-21T05:09:12.178357Z"
    },
    "papermill": {
     "duration": 0.284717,
     "end_time": "2022-02-21T05:11:53.909714",
     "exception": false,
     "start_time": "2022-02-21T05:11:53.624997",
     "status": "completed"
    },
    "tags": []
   },
   "outputs": [],
   "source": [
    "from sklearn.model_selection import train_test_split\n",
    "X_train, X_test, y_train, y_test = train_test_split(X_scaled, Y, test_size=0.3, random_state=42)"
   ]
  },
  {
   "cell_type": "code",
   "execution_count": 6,
   "id": "3f7ede22",
   "metadata": {
    "execution": {
     "iopub.execute_input": "2022-02-21T05:11:53.945591Z",
     "iopub.status.busy": "2022-02-21T05:11:53.944735Z",
     "iopub.status.idle": "2022-02-21T05:11:53.951632Z",
     "shell.execute_reply": "2022-02-21T05:11:53.951063Z",
     "shell.execute_reply.started": "2022-02-21T05:09:12.405053Z"
    },
    "papermill": {
     "duration": 0.025604,
     "end_time": "2022-02-21T05:11:53.951777",
     "exception": false,
     "start_time": "2022-02-21T05:11:53.926173",
     "status": "completed"
    },
    "tags": []
   },
   "outputs": [
    {
     "name": "stdout",
     "output_type": "stream",
     "text": [
      "(354, 13)\n",
      "(152, 13)\n",
      "(354, 1)\n",
      "(152, 1)\n"
     ]
    }
   ],
   "source": [
    "print(X_train.shape)\n",
    "print(X_test.shape)\n",
    "print(y_train.shape)\n",
    "print(y_test.shape)"
   ]
  },
  {
   "cell_type": "code",
   "execution_count": 7,
   "id": "611dbcc0",
   "metadata": {
    "execution": {
     "iopub.execute_input": "2022-02-21T05:11:53.989203Z",
     "iopub.status.busy": "2022-02-21T05:11:53.988479Z",
     "iopub.status.idle": "2022-02-21T05:11:54.444374Z",
     "shell.execute_reply": "2022-02-21T05:11:54.443848Z",
     "shell.execute_reply.started": "2022-02-21T05:09:12.834745Z"
    },
    "papermill": {
     "duration": 0.475674,
     "end_time": "2022-02-21T05:11:54.444500",
     "exception": false,
     "start_time": "2022-02-21T05:11:53.968826",
     "status": "completed"
    },
    "tags": []
   },
   "outputs": [],
   "source": [
    "import cuml\n",
    "from cuml import Ridge"
   ]
  },
  {
   "cell_type": "code",
   "execution_count": 8,
   "id": "a7ec15d3",
   "metadata": {
    "execution": {
     "iopub.execute_input": "2022-02-21T05:11:54.483915Z",
     "iopub.status.busy": "2022-02-21T05:11:54.483186Z",
     "iopub.status.idle": "2022-02-21T05:11:54.485207Z",
     "shell.execute_reply": "2022-02-21T05:11:54.485572Z",
     "shell.execute_reply.started": "2022-02-21T05:09:13.187433Z"
    },
    "papermill": {
     "duration": 0.022451,
     "end_time": "2022-02-21T05:11:54.485692",
     "exception": false,
     "start_time": "2022-02-21T05:11:54.463241",
     "status": "completed"
    },
    "tags": []
   },
   "outputs": [],
   "source": [
    "method=['svd','eig']\n",
    "msql=[]\n",
    "mael=[]\n",
    "r2l=[]"
   ]
  },
  {
   "cell_type": "code",
   "execution_count": 9,
   "id": "dcc94912",
   "metadata": {
    "execution": {
     "iopub.execute_input": "2022-02-21T05:11:54.524621Z",
     "iopub.status.busy": "2022-02-21T05:11:54.524050Z",
     "iopub.status.idle": "2022-02-21T05:11:59.906660Z",
     "shell.execute_reply": "2022-02-21T05:11:59.907306Z",
     "shell.execute_reply.started": "2022-02-21T05:09:13.587316Z"
    },
    "papermill": {
     "duration": 5.405475,
     "end_time": "2022-02-21T05:11:59.907542",
     "exception": false,
     "start_time": "2022-02-21T05:11:54.502067",
     "status": "completed"
    },
    "tags": []
   },
   "outputs": [
    {
     "name": "stdout",
     "output_type": "stream",
     "text": [
      "Coefficients:\n",
      "[-1.14691398  0.83432582  0.33940664  0.79163618 -1.78472664  2.84783956\n",
      " -0.30429309 -2.9156248   2.11139957 -1.46519873 -1.96963459  1.07567768\n",
      " -3.90310711]\n",
      "Intercept:\n",
      "22.509454717075215\n",
      "Coefficients:\n",
      "[-1.14691398  0.83432582  0.33940664  0.79163618 -1.78472664  2.84783956\n",
      " -0.30429309 -2.9156248   2.11139957 -1.46519873 -1.96963459  1.07567768\n",
      " -3.90310711]\n",
      "Intercept:\n",
      "22.509454717075215\n"
     ]
    }
   ],
   "source": [
    "import cuml\n",
    "for i in method:\n",
    "    alpha = np.array([1e-5])\n",
    "    ridge = Ridge(alpha = alpha, fit_intercept = True, normalize = False, solver = i)\n",
    "    result_ridge = ridge.fit(X_train, y_train)\n",
    "    print(\"Coefficients:\")\n",
    "    print(result_ridge.coef_)\n",
    "    print(\"Intercept:\")\n",
    "    print(result_ridge.intercept_)\n",
    "    preds = result_ridge.predict(X_test)\n",
    "    msq=cuml.metrics.regression.mean_squared_error(y_test,preds)\n",
    "    r2=cuml.metrics.regression.r2_score(y_test,preds)\n",
    "    err=cuml.metrics.regression.mean_absolute_error(y_test,preds)\n",
    "    msql.append(msq)\n",
    "    mael.append(err)\n",
    "    r2l.append(r2)\n",
    "   "
   ]
  },
  {
   "cell_type": "code",
   "execution_count": 10,
   "id": "b8b6f991",
   "metadata": {
    "execution": {
     "iopub.execute_input": "2022-02-21T05:11:59.953593Z",
     "iopub.status.busy": "2022-02-21T05:11:59.952992Z",
     "iopub.status.idle": "2022-02-21T05:11:59.959233Z",
     "shell.execute_reply": "2022-02-21T05:11:59.958634Z",
     "shell.execute_reply.started": "2022-02-21T05:09:14.044709Z"
    },
    "papermill": {
     "duration": 0.032326,
     "end_time": "2022-02-21T05:11:59.959360",
     "exception": false,
     "start_time": "2022-02-21T05:11:59.927034",
     "status": "completed"
    },
    "tags": []
   },
   "outputs": [],
   "source": [
    "ridge_df=pd.DataFrame(method)"
   ]
  },
  {
   "cell_type": "code",
   "execution_count": 11,
   "id": "42a42a85",
   "metadata": {
    "execution": {
     "iopub.execute_input": "2022-02-21T05:12:00.001860Z",
     "iopub.status.busy": "2022-02-21T05:12:00.000949Z",
     "iopub.status.idle": "2022-02-21T05:12:00.005702Z",
     "shell.execute_reply": "2022-02-21T05:12:00.005266Z",
     "shell.execute_reply.started": "2022-02-21T05:09:16.806341Z"
    },
    "papermill": {
     "duration": 0.02777,
     "end_time": "2022-02-21T05:12:00.005803",
     "exception": false,
     "start_time": "2022-02-21T05:11:59.978033",
     "status": "completed"
    },
    "tags": []
   },
   "outputs": [],
   "source": [
    "ridge_df['mean square error']=msql\n",
    "ridge_df['mean absolute error']=mael\n",
    "ridge_df['r2 score']=r2l"
   ]
  },
  {
   "cell_type": "code",
   "execution_count": 12,
   "id": "096bba13",
   "metadata": {
    "execution": {
     "iopub.execute_input": "2022-02-21T05:12:00.048520Z",
     "iopub.status.busy": "2022-02-21T05:12:00.047752Z",
     "iopub.status.idle": "2022-02-21T05:12:00.066396Z",
     "shell.execute_reply": "2022-02-21T05:12:00.065904Z",
     "shell.execute_reply.started": "2022-02-21T05:09:17.316771Z"
    },
    "papermill": {
     "duration": 0.042035,
     "end_time": "2022-02-21T05:12:00.066504",
     "exception": false,
     "start_time": "2022-02-21T05:12:00.024469",
     "status": "completed"
    },
    "tags": []
   },
   "outputs": [
    {
     "data": {
      "text/html": [
       "<div>\n",
       "<style scoped>\n",
       "    .dataframe tbody tr th:only-of-type {\n",
       "        vertical-align: middle;\n",
       "    }\n",
       "\n",
       "    .dataframe tbody tr th {\n",
       "        vertical-align: top;\n",
       "    }\n",
       "\n",
       "    .dataframe thead th {\n",
       "        text-align: right;\n",
       "    }\n",
       "</style>\n",
       "<table border=\"1\" class=\"dataframe\">\n",
       "  <thead>\n",
       "    <tr style=\"text-align: right;\">\n",
       "      <th></th>\n",
       "      <th>0</th>\n",
       "      <th>mean square error</th>\n",
       "      <th>mean absolute error</th>\n",
       "      <th>r2 score</th>\n",
       "    </tr>\n",
       "  </thead>\n",
       "  <tbody>\n",
       "    <tr>\n",
       "      <th>0</th>\n",
       "      <td>svd</td>\n",
       "      <td>139.59932</td>\n",
       "      <td>8.983415</td>\n",
       "      <td>0.711226</td>\n",
       "    </tr>\n",
       "    <tr>\n",
       "      <th>1</th>\n",
       "      <td>eig</td>\n",
       "      <td>139.59932</td>\n",
       "      <td>8.983415</td>\n",
       "      <td>0.711226</td>\n",
       "    </tr>\n",
       "  </tbody>\n",
       "</table>\n",
       "</div>"
      ],
      "text/plain": [
       "     0  mean square error  mean absolute error  r2 score\n",
       "0  svd          139.59932             8.983415  0.711226\n",
       "1  eig          139.59932             8.983415  0.711226"
      ]
     },
     "execution_count": 12,
     "metadata": {},
     "output_type": "execute_result"
    }
   ],
   "source": [
    "ridge_df"
   ]
  },
  {
   "cell_type": "code",
   "execution_count": 13,
   "id": "49f0815f",
   "metadata": {
    "execution": {
     "iopub.execute_input": "2022-02-21T05:12:00.108355Z",
     "iopub.status.busy": "2022-02-21T05:12:00.107092Z",
     "iopub.status.idle": "2022-02-21T05:12:00.111624Z",
     "shell.execute_reply": "2022-02-21T05:12:00.112033Z",
     "shell.execute_reply.started": "2022-02-21T05:10:20.167114Z"
    },
    "papermill": {
     "duration": 0.026317,
     "end_time": "2022-02-21T05:12:00.112154",
     "exception": false,
     "start_time": "2022-02-21T05:12:00.085837",
     "status": "completed"
    },
    "tags": []
   },
   "outputs": [],
   "source": [
    "from cuml.linear_model import Lasso"
   ]
  },
  {
   "cell_type": "code",
   "execution_count": 14,
   "id": "57d8dceb",
   "metadata": {
    "execution": {
     "iopub.execute_input": "2022-02-21T05:12:00.152696Z",
     "iopub.status.busy": "2022-02-21T05:12:00.151931Z",
     "iopub.status.idle": "2022-02-21T05:12:00.154007Z",
     "shell.execute_reply": "2022-02-21T05:12:00.154531Z",
     "shell.execute_reply.started": "2022-02-21T05:10:20.437315Z"
    },
    "papermill": {
     "duration": 0.023773,
     "end_time": "2022-02-21T05:12:00.154650",
     "exception": false,
     "start_time": "2022-02-21T05:12:00.130877",
     "status": "completed"
    },
    "tags": []
   },
   "outputs": [],
   "source": [
    "alpha=[0.1,0.2,0.3,0.4,0.5,0.6,0.7,0.8,0.9,1]\n",
    "msql=[]\n",
    "mael=[]\n",
    "r2l=[]"
   ]
  },
  {
   "cell_type": "code",
   "execution_count": 15,
   "id": "49235752",
   "metadata": {
    "execution": {
     "iopub.execute_input": "2022-02-21T05:12:00.333081Z",
     "iopub.status.busy": "2022-02-21T05:12:00.332192Z",
     "iopub.status.idle": "2022-02-21T05:12:00.467395Z",
     "shell.execute_reply": "2022-02-21T05:12:00.466280Z",
     "shell.execute_reply.started": "2022-02-21T05:10:21.177357Z"
    },
    "papermill": {
     "duration": 0.294009,
     "end_time": "2022-02-21T05:12:00.467574",
     "exception": false,
     "start_time": "2022-02-21T05:12:00.173565",
     "status": "completed"
    },
    "tags": []
   },
   "outputs": [
    {
     "name": "stdout",
     "output_type": "stream",
     "text": [
      "Coefficients:\n",
      "[-0.82672061  0.39323408  0.          0.80490657 -1.28995831  2.93306839\n",
      " -0.11769109 -2.12965495  0.51459017 -0.04896216 -1.8254361   0.95338885\n",
      " -3.93544882]\n",
      "intercept:\n",
      "22.513044683878363\n",
      "Coefficients:\n",
      "[-0.54652291  0.13003542  0.          0.76453477 -0.72479815  2.98159353\n",
      "  0.         -1.40732985  0.          0.         -1.6527983   0.82881074\n",
      " -3.95660984]\n",
      "intercept:\n",
      "22.523952671727482\n",
      "Coefficients:\n",
      "[-0.46120429  0.          0.          0.69707703 -0.32009511  2.97395305\n",
      "  0.         -0.86570225  0.          0.         -1.59411247  0.77083289\n",
      " -3.96966607]\n",
      "intercept:\n",
      "22.532051396235357\n",
      "Coefficients:\n",
      "[-0.38310237  0.          0.          0.63348026  0.          2.95238037\n",
      "  0.         -0.4563307   0.          0.         -1.51542782  0.70882843\n",
      " -3.96107774]\n",
      "intercept:\n",
      "22.54307351782099\n",
      "Coefficients:\n",
      "[-0.2859226   0.          0.          0.5900941   0.          2.9194825\n",
      "  0.         -0.24375816  0.          0.         -1.46579062  0.61515701\n",
      " -3.87002576]\n",
      "intercept:\n",
      "22.56044509612627\n",
      "Coefficients:\n",
      "[-0.18750167  0.          0.          0.54664319  0.          2.88722436\n",
      "  0.         -0.03056797  0.          0.         -1.41666703  0.52234637\n",
      " -3.77830961]\n",
      "intercept:\n",
      "22.577760525466708\n",
      "Coefficients:\n",
      "[-0.12394897  0.          0.          0.47437993  0.          2.83901771\n",
      "  0.          0.          0.          0.         -1.37410638  0.44695026\n",
      " -3.7658628 ]\n",
      "intercept:\n",
      "22.589684840514376\n",
      "Coefficients:\n",
      "[-0.06624432  0.          0.          0.39738866  0.          2.78847253\n",
      "  0.          0.          0.          0.         -1.3328981   0.37470495\n",
      " -3.76629   ]\n",
      "intercept:\n",
      "22.60066977848704\n",
      "Coefficients:\n",
      "[-0.00850719  0.          0.          0.32026833  0.          2.73855466\n",
      "  0.          0.          0.          0.         -1.29185005  0.30280223\n",
      " -3.76617833]\n",
      "intercept:\n",
      "22.61161374854554\n",
      "Coefficients:\n",
      "[ 0.          0.          0.          0.24385267  0.          2.69196476\n",
      "  0.          0.          0.          0.         -1.24284889  0.22178242\n",
      " -3.75013224]\n",
      "intercept:\n",
      "22.623002036957825\n"
     ]
    }
   ],
   "source": [
    "for i in alpha:\n",
    "    ls = Lasso(alpha = i)\n",
    "    result_lasso = ls.fit(X_train, y_train)\n",
    "    print(\"Coefficients:\")\n",
    "    print(result_lasso.coef_)\n",
    "    print(\"intercept:\")\n",
    "    print(result_lasso.intercept_)\n",
    "    preds = result_lasso.predict(X_test)\n",
    "    msq=cuml.metrics.regression.mean_squared_error(y_test,preds)\n",
    "    r2=cuml.metrics.regression.r2_score(y_test,preds)\n",
    "    err=cuml.metrics.regression.mean_absolute_error(y_test,preds)\n",
    "    msql.append(msq)\n",
    "    mael.append(err)\n",
    "    r2l.append(r2)\n",
    "\n",
    "    \n",
    "    "
   ]
  },
  {
   "cell_type": "code",
   "execution_count": 16,
   "id": "455302fc",
   "metadata": {
    "execution": {
     "iopub.execute_input": "2022-02-21T05:12:00.537548Z",
     "iopub.status.busy": "2022-02-21T05:12:00.536631Z",
     "iopub.status.idle": "2022-02-21T05:12:00.539133Z",
     "shell.execute_reply": "2022-02-21T05:12:00.538353Z",
     "shell.execute_reply.started": "2022-02-21T05:10:35.917830Z"
    },
    "papermill": {
     "duration": 0.045713,
     "end_time": "2022-02-21T05:12:00.539321",
     "exception": false,
     "start_time": "2022-02-21T05:12:00.493608",
     "status": "completed"
    },
    "tags": []
   },
   "outputs": [],
   "source": [
    "lass_df=pd.DataFrame(alpha)"
   ]
  },
  {
   "cell_type": "code",
   "execution_count": 17,
   "id": "7c87e527",
   "metadata": {
    "execution": {
     "iopub.execute_input": "2022-02-21T05:12:00.618726Z",
     "iopub.status.busy": "2022-02-21T05:12:00.617941Z",
     "iopub.status.idle": "2022-02-21T05:12:01.013591Z",
     "shell.execute_reply": "2022-02-21T05:12:01.014065Z",
     "shell.execute_reply.started": "2022-02-21T05:10:36.907707Z"
    },
    "papermill": {
     "duration": 0.431918,
     "end_time": "2022-02-21T05:12:01.014220",
     "exception": false,
     "start_time": "2022-02-21T05:12:00.582302",
     "status": "completed"
    },
    "tags": []
   },
   "outputs": [
    {
     "data": {
      "text/html": [
       "<div>\n",
       "<style scoped>\n",
       "    .dataframe tbody tr th:only-of-type {\n",
       "        vertical-align: middle;\n",
       "    }\n",
       "\n",
       "    .dataframe tbody tr th {\n",
       "        vertical-align: top;\n",
       "    }\n",
       "\n",
       "    .dataframe thead th {\n",
       "        text-align: right;\n",
       "    }\n",
       "</style>\n",
       "<table border=\"1\" class=\"dataframe\">\n",
       "  <thead>\n",
       "    <tr style=\"text-align: right;\">\n",
       "      <th></th>\n",
       "      <th>0</th>\n",
       "      <th>mean square error</th>\n",
       "      <th>mean absolute error</th>\n",
       "      <th>r2 score</th>\n",
       "    </tr>\n",
       "  </thead>\n",
       "  <tbody>\n",
       "    <tr>\n",
       "      <th>0</th>\n",
       "      <td>0.1</td>\n",
       "      <td>133.076405</td>\n",
       "      <td>8.773180</td>\n",
       "      <td>0.694318</td>\n",
       "    </tr>\n",
       "    <tr>\n",
       "      <th>1</th>\n",
       "      <td>0.2</td>\n",
       "      <td>129.072476</td>\n",
       "      <td>8.639153</td>\n",
       "      <td>0.680631</td>\n",
       "    </tr>\n",
       "    <tr>\n",
       "      <th>2</th>\n",
       "      <td>0.3</td>\n",
       "      <td>126.448094</td>\n",
       "      <td>8.547183</td>\n",
       "      <td>0.671090</td>\n",
       "    </tr>\n",
       "    <tr>\n",
       "      <th>3</th>\n",
       "      <td>0.4</td>\n",
       "      <td>124.306198</td>\n",
       "      <td>8.471644</td>\n",
       "      <td>0.662904</td>\n",
       "    </tr>\n",
       "    <tr>\n",
       "      <th>4</th>\n",
       "      <td>0.5</td>\n",
       "      <td>122.242198</td>\n",
       "      <td>8.403012</td>\n",
       "      <td>0.660372</td>\n",
       "    </tr>\n",
       "    <tr>\n",
       "      <th>5</th>\n",
       "      <td>0.6</td>\n",
       "      <td>120.311621</td>\n",
       "      <td>8.337624</td>\n",
       "      <td>0.656076</td>\n",
       "    </tr>\n",
       "    <tr>\n",
       "      <th>6</th>\n",
       "      <td>0.7</td>\n",
       "      <td>118.576353</td>\n",
       "      <td>8.273646</td>\n",
       "      <td>0.654003</td>\n",
       "    </tr>\n",
       "    <tr>\n",
       "      <th>7</th>\n",
       "      <td>0.8</td>\n",
       "      <td>116.923371</td>\n",
       "      <td>8.211475</td>\n",
       "      <td>0.651669</td>\n",
       "    </tr>\n",
       "    <tr>\n",
       "      <th>8</th>\n",
       "      <td>0.9</td>\n",
       "      <td>115.337842</td>\n",
       "      <td>8.151556</td>\n",
       "      <td>0.648476</td>\n",
       "    </tr>\n",
       "    <tr>\n",
       "      <th>9</th>\n",
       "      <td>1.0</td>\n",
       "      <td>113.893723</td>\n",
       "      <td>8.096987</td>\n",
       "      <td>0.644554</td>\n",
       "    </tr>\n",
       "  </tbody>\n",
       "</table>\n",
       "</div>"
      ],
      "text/plain": [
       "     0  mean square error  mean absolute error  r2 score\n",
       "0  0.1         133.076405             8.773180  0.694318\n",
       "1  0.2         129.072476             8.639153  0.680631\n",
       "2  0.3         126.448094             8.547183  0.671090\n",
       "3  0.4         124.306198             8.471644  0.662904\n",
       "4  0.5         122.242198             8.403012  0.660372\n",
       "5  0.6         120.311621             8.337624  0.656076\n",
       "6  0.7         118.576353             8.273646  0.654003\n",
       "7  0.8         116.923371             8.211475  0.651669\n",
       "8  0.9         115.337842             8.151556  0.648476\n",
       "9  1.0         113.893723             8.096987  0.644554"
      ]
     },
     "execution_count": 17,
     "metadata": {},
     "output_type": "execute_result"
    }
   ],
   "source": [
    "lass_df['mean square error']=msql\n",
    "lass_df['mean absolute error']=mael\n",
    "lass_df['r2 score']=r2l\n",
    "lass_df"
   ]
  },
  {
   "cell_type": "code",
   "execution_count": null,
   "id": "6e6efab4",
   "metadata": {
    "papermill": {
     "duration": 0.018288,
     "end_time": "2022-02-21T05:12:01.055472",
     "exception": false,
     "start_time": "2022-02-21T05:12:01.037184",
     "status": "completed"
    },
    "tags": []
   },
   "outputs": [],
   "source": []
  }
 ],
 "metadata": {
  "kernelspec": {
   "display_name": "Python 3",
   "language": "python",
   "name": "python3"
  },
  "language_info": {
   "codemirror_mode": {
    "name": "ipython",
    "version": 3
   },
   "file_extension": ".py",
   "mimetype": "text/x-python",
   "name": "python",
   "nbconvert_exporter": "python",
   "pygments_lexer": "ipython3",
   "version": "3.7.12"
  },
  "papermill": {
   "default_parameters": {},
   "duration": 22.919408,
   "end_time": "2022-02-21T05:12:02.283507",
   "environment_variables": {},
   "exception": null,
   "input_path": "__notebook__.ipynb",
   "output_path": "__notebook__.ipynb",
   "parameters": {},
   "start_time": "2022-02-21T05:11:39.364099",
   "version": "2.3.3"
  }
 },
 "nbformat": 4,
 "nbformat_minor": 5
}
