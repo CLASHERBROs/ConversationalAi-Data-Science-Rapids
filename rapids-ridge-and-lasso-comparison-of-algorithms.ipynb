{
 "cells": [
  {
   "cell_type": "code",
   "execution_count": 1,
   "id": "4ba1c983",
   "metadata": {
    "_cell_guid": "b1076dfc-b9ad-4769-8c92-a6c4dae69d19",
    "_uuid": "8f2839f25d086af736a60e9eeb907d3b93b6e0e5",
    "execution": {
     "iopub.execute_input": "2022-02-21T05:03:03.807571Z",
     "iopub.status.busy": "2022-02-21T05:03:03.806096Z",
     "iopub.status.idle": "2022-02-21T05:03:09.987845Z",
     "shell.execute_reply": "2022-02-21T05:03:09.987264Z",
     "shell.execute_reply.started": "2022-02-21T05:02:23.494028Z"
    },
    "papermill": {
     "duration": 6.199133,
     "end_time": "2022-02-21T05:03:09.987989",
     "exception": false,
     "start_time": "2022-02-21T05:03:03.788856",
     "status": "completed"
    },
    "tags": []
   },
   "outputs": [
    {
     "data": {
      "text/html": [
       "<div>\n",
       "<style scoped>\n",
       "    .dataframe tbody tr th:only-of-type {\n",
       "        vertical-align: middle;\n",
       "    }\n",
       "\n",
       "    .dataframe tbody tr th {\n",
       "        vertical-align: top;\n",
       "    }\n",
       "\n",
       "    .dataframe thead th {\n",
       "        text-align: right;\n",
       "    }\n",
       "</style>\n",
       "<table border=\"1\" class=\"dataframe\">\n",
       "  <thead>\n",
       "    <tr style=\"text-align: right;\">\n",
       "      <th></th>\n",
       "      <th>CRIM</th>\n",
       "      <th>ZN</th>\n",
       "      <th>INDUS</th>\n",
       "      <th>CHAS</th>\n",
       "      <th>NOX</th>\n",
       "      <th>RM</th>\n",
       "      <th>AGE</th>\n",
       "      <th>DIS</th>\n",
       "      <th>RAD</th>\n",
       "      <th>TAX</th>\n",
       "      <th>PTRATIO</th>\n",
       "      <th>B</th>\n",
       "      <th>LSTAT</th>\n",
       "      <th>target</th>\n",
       "    </tr>\n",
       "  </thead>\n",
       "  <tbody>\n",
       "    <tr>\n",
       "      <th>0</th>\n",
       "      <td>0.00632</td>\n",
       "      <td>18.0</td>\n",
       "      <td>2.31</td>\n",
       "      <td>0.0</td>\n",
       "      <td>0.538</td>\n",
       "      <td>6.575</td>\n",
       "      <td>65.2</td>\n",
       "      <td>4.0900</td>\n",
       "      <td>1.0</td>\n",
       "      <td>296.0</td>\n",
       "      <td>15.3</td>\n",
       "      <td>396.90</td>\n",
       "      <td>4.98</td>\n",
       "      <td>24.0</td>\n",
       "    </tr>\n",
       "    <tr>\n",
       "      <th>1</th>\n",
       "      <td>0.02731</td>\n",
       "      <td>0.0</td>\n",
       "      <td>7.07</td>\n",
       "      <td>0.0</td>\n",
       "      <td>0.469</td>\n",
       "      <td>6.421</td>\n",
       "      <td>78.9</td>\n",
       "      <td>4.9671</td>\n",
       "      <td>2.0</td>\n",
       "      <td>242.0</td>\n",
       "      <td>17.8</td>\n",
       "      <td>396.90</td>\n",
       "      <td>9.14</td>\n",
       "      <td>21.6</td>\n",
       "    </tr>\n",
       "    <tr>\n",
       "      <th>2</th>\n",
       "      <td>0.02729</td>\n",
       "      <td>0.0</td>\n",
       "      <td>7.07</td>\n",
       "      <td>0.0</td>\n",
       "      <td>0.469</td>\n",
       "      <td>7.185</td>\n",
       "      <td>61.1</td>\n",
       "      <td>4.9671</td>\n",
       "      <td>2.0</td>\n",
       "      <td>242.0</td>\n",
       "      <td>17.8</td>\n",
       "      <td>392.83</td>\n",
       "      <td>4.03</td>\n",
       "      <td>34.7</td>\n",
       "    </tr>\n",
       "    <tr>\n",
       "      <th>3</th>\n",
       "      <td>0.03237</td>\n",
       "      <td>0.0</td>\n",
       "      <td>2.18</td>\n",
       "      <td>0.0</td>\n",
       "      <td>0.458</td>\n",
       "      <td>6.998</td>\n",
       "      <td>45.8</td>\n",
       "      <td>6.0622</td>\n",
       "      <td>3.0</td>\n",
       "      <td>222.0</td>\n",
       "      <td>18.7</td>\n",
       "      <td>394.63</td>\n",
       "      <td>2.94</td>\n",
       "      <td>33.4</td>\n",
       "    </tr>\n",
       "    <tr>\n",
       "      <th>4</th>\n",
       "      <td>0.06905</td>\n",
       "      <td>0.0</td>\n",
       "      <td>2.18</td>\n",
       "      <td>0.0</td>\n",
       "      <td>0.458</td>\n",
       "      <td>7.147</td>\n",
       "      <td>54.2</td>\n",
       "      <td>6.0622</td>\n",
       "      <td>3.0</td>\n",
       "      <td>222.0</td>\n",
       "      <td>18.7</td>\n",
       "      <td>396.90</td>\n",
       "      <td>5.33</td>\n",
       "      <td>36.2</td>\n",
       "    </tr>\n",
       "  </tbody>\n",
       "</table>\n",
       "</div>"
      ],
      "text/plain": [
       "      CRIM    ZN  INDUS  CHAS    NOX     RM   AGE     DIS  RAD    TAX  \\\n",
       "0  0.00632  18.0   2.31   0.0  0.538  6.575  65.2  4.0900  1.0  296.0   \n",
       "1  0.02731   0.0   7.07   0.0  0.469  6.421  78.9  4.9671  2.0  242.0   \n",
       "2  0.02729   0.0   7.07   0.0  0.469  7.185  61.1  4.9671  2.0  242.0   \n",
       "3  0.03237   0.0   2.18   0.0  0.458  6.998  45.8  6.0622  3.0  222.0   \n",
       "4  0.06905   0.0   2.18   0.0  0.458  7.147  54.2  6.0622  3.0  222.0   \n",
       "\n",
       "   PTRATIO       B  LSTAT  target  \n",
       "0     15.3  396.90   4.98    24.0  \n",
       "1     17.8  396.90   9.14    21.6  \n",
       "2     17.8  392.83   4.03    34.7  \n",
       "3     18.7  394.63   2.94    33.4  \n",
       "4     18.7  396.90   5.33    36.2  "
      ]
     },
     "execution_count": 1,
     "metadata": {},
     "output_type": "execute_result"
    }
   ],
   "source": [
    "import cudf as pd\n",
    "from sklearn.datasets import load_boston\n",
    "boston = load_boston()\n",
    "df = pd.DataFrame(data=boston.data, columns = ['CRIM', 'ZN', 'INDUS', 'CHAS', 'NOX', 'RM', 'AGE', 'DIS', 'RAD',\n",
    "        'TAX', 'PTRATIO', 'B', 'LSTAT'])\n",
    "df['target'] = boston.target\n",
    "df.head(5)"
   ]
  },
  {
   "cell_type": "code",
   "execution_count": 2,
   "id": "f2491a67",
   "metadata": {
    "execution": {
     "iopub.execute_input": "2022-02-21T05:03:10.025151Z",
     "iopub.status.busy": "2022-02-21T05:03:10.024352Z",
     "iopub.status.idle": "2022-02-21T05:03:10.256087Z",
     "shell.execute_reply": "2022-02-21T05:03:10.255549Z",
     "shell.execute_reply.started": "2022-02-21T05:02:23.644281Z"
    },
    "papermill": {
     "duration": 0.254572,
     "end_time": "2022-02-21T05:03:10.256220",
     "exception": false,
     "start_time": "2022-02-21T05:03:10.001648",
     "status": "completed"
    },
    "tags": []
   },
   "outputs": [],
   "source": [
    "import cupy as np\n",
    "X=df.iloc[:,0:13]\n",
    "Y=df.iloc[:,13]\n",
    "Y=np.array(Y)\n",
    "Y=Y.reshape(-1,1)"
   ]
  },
  {
   "cell_type": "code",
   "execution_count": 3,
   "id": "31247669",
   "metadata": {
    "execution": {
     "iopub.execute_input": "2022-02-21T05:03:10.285399Z",
     "iopub.status.busy": "2022-02-21T05:03:10.284635Z",
     "iopub.status.idle": "2022-02-21T05:03:10.291335Z",
     "shell.execute_reply": "2022-02-21T05:03:10.290938Z",
     "shell.execute_reply.started": "2022-02-21T05:02:23.853859Z"
    },
    "papermill": {
     "duration": 0.021977,
     "end_time": "2022-02-21T05:03:10.291443",
     "exception": false,
     "start_time": "2022-02-21T05:03:10.269466",
     "status": "completed"
    },
    "tags": []
   },
   "outputs": [],
   "source": [
    "from sklearn.preprocessing import StandardScaler\n",
    "scaler=StandardScaler()\n",
    "X_scaled=scaler.fit_transform(X.as_matrix())"
   ]
  },
  {
   "cell_type": "code",
   "execution_count": 4,
   "id": "de8377e5",
   "metadata": {
    "execution": {
     "iopub.execute_input": "2022-02-21T05:03:10.319594Z",
     "iopub.status.busy": "2022-02-21T05:03:10.318824Z",
     "iopub.status.idle": "2022-02-21T05:03:10.324732Z",
     "shell.execute_reply": "2022-02-21T05:03:10.324284Z",
     "shell.execute_reply.started": "2022-02-21T05:02:24.029407Z"
    },
    "papermill": {
     "duration": 0.020686,
     "end_time": "2022-02-21T05:03:10.324836",
     "exception": false,
     "start_time": "2022-02-21T05:03:10.304150",
     "status": "completed"
    },
    "tags": []
   },
   "outputs": [
    {
     "data": {
      "text/plain": [
       "array([[-0.41978194,  0.28482986, -1.2879095 , ..., -1.45900038,\n",
       "         0.44105193, -1.0755623 ],\n",
       "       [-0.41733926, -0.48772236, -0.59338101, ..., -0.30309415,\n",
       "         0.44105193, -0.49243937],\n",
       "       [-0.41734159, -0.48772236, -0.59338101, ..., -0.30309415,\n",
       "         0.39642699, -1.2087274 ],\n",
       "       ...,\n",
       "       [-0.41344658, -0.48772236,  0.11573841, ...,  1.17646583,\n",
       "         0.44105193, -0.98304761],\n",
       "       [-0.40776407, -0.48772236,  0.11573841, ...,  1.17646583,\n",
       "         0.4032249 , -0.86530163],\n",
       "       [-0.41500016, -0.48772236,  0.11573841, ...,  1.17646583,\n",
       "         0.44105193, -0.66905833]])"
      ]
     },
     "execution_count": 4,
     "metadata": {},
     "output_type": "execute_result"
    }
   ],
   "source": [
    "X_scaled"
   ]
  },
  {
   "cell_type": "code",
   "execution_count": 5,
   "id": "89741879",
   "metadata": {
    "execution": {
     "iopub.execute_input": "2022-02-21T05:03:10.355512Z",
     "iopub.status.busy": "2022-02-21T05:03:10.355019Z",
     "iopub.status.idle": "2022-02-21T05:03:10.622539Z",
     "shell.execute_reply": "2022-02-21T05:03:10.621680Z",
     "shell.execute_reply.started": "2022-02-21T05:02:24.231808Z"
    },
    "papermill": {
     "duration": 0.285063,
     "end_time": "2022-02-21T05:03:10.622684",
     "exception": false,
     "start_time": "2022-02-21T05:03:10.337621",
     "status": "completed"
    },
    "tags": []
   },
   "outputs": [],
   "source": [
    "from sklearn.model_selection import train_test_split\n",
    "X_train, X_test, y_train, y_test = train_test_split(X_scaled, Y, test_size=0.3, random_state=42)"
   ]
  },
  {
   "cell_type": "code",
   "execution_count": 6,
   "id": "072914a4",
   "metadata": {
    "execution": {
     "iopub.execute_input": "2022-02-21T05:03:10.654102Z",
     "iopub.status.busy": "2022-02-21T05:03:10.653421Z",
     "iopub.status.idle": "2022-02-21T05:03:10.656658Z",
     "shell.execute_reply": "2022-02-21T05:03:10.657224Z",
     "shell.execute_reply.started": "2022-02-21T05:02:24.424085Z"
    },
    "papermill": {
     "duration": 0.021471,
     "end_time": "2022-02-21T05:03:10.657389",
     "exception": false,
     "start_time": "2022-02-21T05:03:10.635918",
     "status": "completed"
    },
    "tags": []
   },
   "outputs": [
    {
     "name": "stdout",
     "output_type": "stream",
     "text": [
      "(354, 13)\n",
      "(152, 13)\n",
      "(354, 1)\n",
      "(152, 1)\n"
     ]
    }
   ],
   "source": [
    "print(X_train.shape)\n",
    "print(X_test.shape)\n",
    "print(y_train.shape)\n",
    "print(y_test.shape)"
   ]
  },
  {
   "cell_type": "code",
   "execution_count": 7,
   "id": "e06bdbcf",
   "metadata": {
    "execution": {
     "iopub.execute_input": "2022-02-21T05:03:10.689568Z",
     "iopub.status.busy": "2022-02-21T05:03:10.688888Z",
     "iopub.status.idle": "2022-02-21T05:03:11.176816Z",
     "shell.execute_reply": "2022-02-21T05:03:11.177233Z",
     "shell.execute_reply.started": "2022-02-21T05:02:24.753831Z"
    },
    "papermill": {
     "duration": 0.505164,
     "end_time": "2022-02-21T05:03:11.177395",
     "exception": false,
     "start_time": "2022-02-21T05:03:10.672231",
     "status": "completed"
    },
    "tags": []
   },
   "outputs": [],
   "source": [
    "import cuml\n",
    "from cuml import Ridge"
   ]
  },
  {
   "cell_type": "code",
   "execution_count": 8,
   "id": "13a21d72",
   "metadata": {
    "execution": {
     "iopub.execute_input": "2022-02-21T05:03:11.208849Z",
     "iopub.status.busy": "2022-02-21T05:03:11.208100Z",
     "iopub.status.idle": "2022-02-21T05:03:11.210034Z",
     "shell.execute_reply": "2022-02-21T05:03:11.210385Z",
     "shell.execute_reply.started": "2022-02-21T05:02:25.014168Z"
    },
    "papermill": {
     "duration": 0.019304,
     "end_time": "2022-02-21T05:03:11.210506",
     "exception": false,
     "start_time": "2022-02-21T05:03:11.191202",
     "status": "completed"
    },
    "tags": []
   },
   "outputs": [],
   "source": [
    "method=['svd','eig']\n"
   ]
  },
  {
   "cell_type": "code",
   "execution_count": 9,
   "id": "66048f7a",
   "metadata": {
    "execution": {
     "iopub.execute_input": "2022-02-21T05:03:11.245894Z",
     "iopub.status.busy": "2022-02-21T05:03:11.245249Z",
     "iopub.status.idle": "2022-02-21T05:03:16.790932Z",
     "shell.execute_reply": "2022-02-21T05:03:16.791416Z",
     "shell.execute_reply.started": "2022-02-21T05:02:25.464747Z"
    },
    "papermill": {
     "duration": 5.567564,
     "end_time": "2022-02-21T05:03:16.791637",
     "exception": false,
     "start_time": "2022-02-21T05:03:11.224073",
     "status": "completed"
    },
    "tags": []
   },
   "outputs": [
    {
     "name": "stdout",
     "output_type": "stream",
     "text": [
      "Coefficients:\n",
      "[-1.14691398  0.83432582  0.33940664  0.79163618 -1.78472664  2.84783956\n",
      " -0.30429309 -2.9156248   2.11139957 -1.46519873 -1.96963459  1.07567768\n",
      " -3.90310711]\n",
      "Intercept:\n",
      "22.509454717075215\n",
      "Algorithm of svd Gives mean absolute error of 8.98341549655379Mean squared error of 139.59931994445373 R2score of 0.7112260015709106\n",
      "Coefficients:\n",
      "[-1.14691398  0.83432582  0.33940664  0.79163618 -1.78472664  2.84783956\n",
      " -0.30429309 -2.9156248   2.11139957 -1.46519873 -1.96963459  1.07567768\n",
      " -3.90310711]\n",
      "Intercept:\n",
      "22.509454717075215\n",
      "Algorithm of eig Gives mean absolute error of 8.983415496553802Mean squared error of 139.59931994445407 R2score of 0.7112260015709102\n"
     ]
    }
   ],
   "source": [
    "import cuml\n",
    "for i in method:\n",
    "    alpha = np.array([1e-5])\n",
    "    ridge = Ridge(alpha = alpha, fit_intercept = True, normalize = False, solver = i)\n",
    "    result_ridge = ridge.fit(X_train, y_train)\n",
    "    print(\"Coefficients:\")\n",
    "    print(result_ridge.coef_)\n",
    "    print(\"Intercept:\")\n",
    "    print(result_ridge.intercept_)\n",
    "    preds = result_ridge.predict(X_test)\n",
    "    msq=cuml.metrics.regression.mean_squared_error(y_test,preds)\n",
    "    r2=cuml.metrics.regression.r2_score(y_test,preds)\n",
    "    err=cuml.metrics.regression.mean_absolute_error(y_test,preds)\n",
    "    print('Algorithm of '+i+' Gives mean absolute error of '+str(err)+ 'Mean squared error of '+str(msq)+' R2score of '+str(r2))"
   ]
  },
  {
   "cell_type": "code",
   "execution_count": 10,
   "id": "9cd87cfc",
   "metadata": {
    "execution": {
     "iopub.execute_input": "2022-02-21T05:03:16.828134Z",
     "iopub.status.busy": "2022-02-21T05:03:16.827294Z",
     "iopub.status.idle": "2022-02-21T05:03:16.830371Z",
     "shell.execute_reply": "2022-02-21T05:03:16.829911Z",
     "shell.execute_reply.started": "2022-02-21T05:02:26.524141Z"
    },
    "papermill": {
     "duration": 0.023024,
     "end_time": "2022-02-21T05:03:16.830493",
     "exception": false,
     "start_time": "2022-02-21T05:03:16.807469",
     "status": "completed"
    },
    "tags": []
   },
   "outputs": [],
   "source": [
    "from cuml.linear_model import Lasso"
   ]
  },
  {
   "cell_type": "code",
   "execution_count": 11,
   "id": "bbd2f6b2",
   "metadata": {
    "execution": {
     "iopub.execute_input": "2022-02-21T05:03:16.864309Z",
     "iopub.status.busy": "2022-02-21T05:03:16.863543Z",
     "iopub.status.idle": "2022-02-21T05:03:16.866192Z",
     "shell.execute_reply": "2022-02-21T05:03:16.866619Z",
     "shell.execute_reply.started": "2022-02-21T05:02:27.024187Z"
    },
    "papermill": {
     "duration": 0.020287,
     "end_time": "2022-02-21T05:03:16.866751",
     "exception": false,
     "start_time": "2022-02-21T05:03:16.846464",
     "status": "completed"
    },
    "tags": []
   },
   "outputs": [],
   "source": [
    "alpha=[0.1,0.2,0.3,0.4,0.5,0.6,0.7,0.8,0.9,1]"
   ]
  },
  {
   "cell_type": "code",
   "execution_count": 12,
   "id": "cbe2f20c",
   "metadata": {
    "execution": {
     "iopub.execute_input": "2022-02-21T05:03:16.900864Z",
     "iopub.status.busy": "2022-02-21T05:03:16.900226Z",
     "iopub.status.idle": "2022-02-21T05:03:17.182663Z",
     "shell.execute_reply": "2022-02-21T05:03:17.182062Z",
     "shell.execute_reply.started": "2022-02-21T05:02:27.434308Z"
    },
    "papermill": {
     "duration": 0.302344,
     "end_time": "2022-02-21T05:03:17.182804",
     "exception": false,
     "start_time": "2022-02-21T05:03:16.880460",
     "status": "completed"
    },
    "tags": []
   },
   "outputs": [
    {
     "name": "stdout",
     "output_type": "stream",
     "text": [
      "Coefficients:\n",
      "[-0.82672061  0.39323408  0.          0.80490657 -1.28995831  2.93306839\n",
      " -0.11769109 -2.12965495  0.51459017 -0.04896216 -1.8254361   0.95338885\n",
      " -3.93544882]\n",
      "intercept:\n",
      "22.513044683878363\n",
      "Alpha of 0.1 Gives mean absolute error of 8.773179529124079Mean squared error of 133.07640456326536 R2score of 0.6943175280788381\n",
      "Coefficients:\n",
      "[-0.54652291  0.13003542  0.          0.76453477 -0.72479815  2.98159353\n",
      "  0.         -1.40732985  0.          0.         -1.6527983   0.82881074\n",
      " -3.95660984]\n",
      "intercept:\n",
      "22.523952671727482\n",
      "Alpha of 0.2 Gives mean absolute error of 8.639152755951272Mean squared error of 129.0724761739434 R2score of 0.6806312212460077\n",
      "Coefficients:\n",
      "[-0.46120429  0.          0.          0.69707703 -0.32009511  2.97395305\n",
      "  0.         -0.86570225  0.          0.         -1.59411247  0.77083289\n",
      " -3.96966607]\n",
      "intercept:\n",
      "22.532051396235357\n",
      "Alpha of 0.3 Gives mean absolute error of 8.54718312418369Mean squared error of 126.44809441561938 R2score of 0.671090340232809\n",
      "Coefficients:\n",
      "[-0.38310237  0.          0.          0.63348026  0.          2.95238037\n",
      "  0.         -0.4563307   0.          0.         -1.51542782  0.70882843\n",
      " -3.96107774]\n",
      "intercept:\n",
      "22.54307351782099\n",
      "Alpha of 0.4 Gives mean absolute error of 8.471644163476165Mean squared error of 124.30619757228526 R2score of 0.6629044371075036\n",
      "Coefficients:\n",
      "[-0.2859226   0.          0.          0.5900941   0.          2.9194825\n",
      "  0.         -0.24375816  0.          0.         -1.46579062  0.61515701\n",
      " -3.87002576]\n",
      "intercept:\n",
      "22.56044509612627\n",
      "Alpha of 0.5 Gives mean absolute error of 8.403011734143064Mean squared error of 122.24219812849029 R2score of 0.660371557874719\n",
      "Coefficients:\n",
      "[-0.18750167  0.          0.          0.54664319  0.          2.88722436\n",
      "  0.         -0.03056797  0.          0.         -1.41666703  0.52234637\n",
      " -3.77830961]\n",
      "intercept:\n",
      "22.577760525466708\n",
      "Alpha of 0.6 Gives mean absolute error of 8.337624054244689Mean squared error of 120.31162136522653 R2score of 0.6560762317011766\n",
      "Coefficients:\n",
      "[-0.12394897  0.          0.          0.47437993  0.          2.83901771\n",
      "  0.          0.          0.          0.         -1.37410638  0.44695026\n",
      " -3.7658628 ]\n",
      "intercept:\n",
      "22.589684840514376\n",
      "Alpha of 0.7 Gives mean absolute error of 8.273645744746625Mean squared error of 118.57635281131518 R2score of 0.6540030001565182\n",
      "Coefficients:\n",
      "[-0.06624432  0.          0.          0.39738866  0.          2.78847253\n",
      "  0.          0.          0.          0.         -1.3328981   0.37470495\n",
      " -3.76629   ]\n",
      "intercept:\n",
      "22.60066977848704\n",
      "Alpha of 0.8 Gives mean absolute error of 8.21147529447474Mean squared error of 116.92337082915807 R2score of 0.6516690663211266\n",
      "Coefficients:\n",
      "[-0.00850719  0.          0.          0.32026833  0.          2.73855466\n",
      "  0.          0.          0.          0.         -1.29185005  0.30280223\n",
      " -3.76617833]\n",
      "intercept:\n",
      "22.61161374854554\n",
      "Alpha of 0.9 Gives mean absolute error of 8.151556395442283Mean squared error of 115.33784165636857 R2score of 0.6484757115542819\n",
      "Coefficients:\n",
      "[ 0.          0.          0.          0.24385267  0.          2.69196476\n",
      "  0.          0.          0.          0.         -1.24284889  0.22178242\n",
      " -3.75013224]\n",
      "intercept:\n",
      "22.623002036957825\n",
      "Alpha of 1 Gives mean absolute error of 8.096987328753805Mean squared error of 113.8937234605557 R2score of 0.6445538846394928\n"
     ]
    }
   ],
   "source": [
    "for i in alpha:\n",
    "    ls = Lasso(alpha = i)\n",
    "    result_lasso = ls.fit(X_train, y_train)\n",
    "    print(\"Coefficients:\")\n",
    "    print(result_lasso.coef_)\n",
    "    print(\"intercept:\")\n",
    "    print(result_lasso.intercept_)\n",
    "    preds = result_lasso.predict(X_test)\n",
    "    msq=cuml.metrics.regression.mean_squared_error(y_test,preds)\n",
    "    r2=cuml.metrics.regression.r2_score(y_test,preds)\n",
    "    err=cuml.metrics.regression.mean_absolute_error(y_test,preds)\n",
    "    print('Alpha of '+str(i)+' Gives mean absolute error of '+str(err)+ 'Mean squared error of '+str(msq)+' R2score of '+str(r2))\n",
    "\n",
    "    \n",
    "    "
   ]
  },
  {
   "cell_type": "code",
   "execution_count": null,
   "id": "a03d9df6",
   "metadata": {
    "papermill": {
     "duration": 0.014806,
     "end_time": "2022-02-21T05:03:17.212634",
     "exception": false,
     "start_time": "2022-02-21T05:03:17.197828",
     "status": "completed"
    },
    "tags": []
   },
   "outputs": [],
   "source": []
  },
  {
   "cell_type": "code",
   "execution_count": null,
   "id": "543c74a5",
   "metadata": {
    "papermill": {
     "duration": 0.014707,
     "end_time": "2022-02-21T05:03:17.242191",
     "exception": false,
     "start_time": "2022-02-21T05:03:17.227484",
     "status": "completed"
    },
    "tags": []
   },
   "outputs": [],
   "source": []
  }
 ],
 "metadata": {
  "kernelspec": {
   "display_name": "Python 3",
   "language": "python",
   "name": "python3"
  },
  "language_info": {
   "codemirror_mode": {
    "name": "ipython",
    "version": 3
   },
   "file_extension": ".py",
   "mimetype": "text/x-python",
   "name": "python",
   "nbconvert_exporter": "python",
   "pygments_lexer": "ipython3",
   "version": "3.7.12"
  },
  "papermill": {
   "default_parameters": {},
   "duration": 23.307157,
   "end_time": "2022-02-21T05:03:18.668847",
   "environment_variables": {},
   "exception": null,
   "input_path": "__notebook__.ipynb",
   "output_path": "__notebook__.ipynb",
   "parameters": {},
   "start_time": "2022-02-21T05:02:55.361690",
   "version": "2.3.3"
  }
 },
 "nbformat": 4,
 "nbformat_minor": 5
}
