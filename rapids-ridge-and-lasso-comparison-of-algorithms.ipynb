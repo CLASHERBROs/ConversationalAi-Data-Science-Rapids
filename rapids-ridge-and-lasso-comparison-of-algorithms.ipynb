{
 "cells": [
  {
   "cell_type": "code",
   "execution_count": 1,
   "id": "28c19f3e",
   "metadata": {
    "_cell_guid": "b1076dfc-b9ad-4769-8c92-a6c4dae69d19",
    "_uuid": "8f2839f25d086af736a60e9eeb907d3b93b6e0e5",
    "execution": {
     "iopub.execute_input": "2022-02-21T05:13:52.644201Z",
     "iopub.status.busy": "2022-02-21T05:13:52.642731Z",
     "iopub.status.idle": "2022-02-21T05:13:58.868349Z",
     "shell.execute_reply": "2022-02-21T05:13:58.868859Z",
     "shell.execute_reply.started": "2022-02-21T05:13:19.828154Z"
    },
    "papermill": {
     "duration": 6.253888,
     "end_time": "2022-02-21T05:13:58.869115",
     "exception": false,
     "start_time": "2022-02-21T05:13:52.615227",
     "status": "completed"
    },
    "tags": []
   },
   "outputs": [
    {
     "data": {
      "text/html": [
       "<div>\n",
       "<style scoped>\n",
       "    .dataframe tbody tr th:only-of-type {\n",
       "        vertical-align: middle;\n",
       "    }\n",
       "\n",
       "    .dataframe tbody tr th {\n",
       "        vertical-align: top;\n",
       "    }\n",
       "\n",
       "    .dataframe thead th {\n",
       "        text-align: right;\n",
       "    }\n",
       "</style>\n",
       "<table border=\"1\" class=\"dataframe\">\n",
       "  <thead>\n",
       "    <tr style=\"text-align: right;\">\n",
       "      <th></th>\n",
       "      <th>CRIM</th>\n",
       "      <th>ZN</th>\n",
       "      <th>INDUS</th>\n",
       "      <th>CHAS</th>\n",
       "      <th>NOX</th>\n",
       "      <th>RM</th>\n",
       "      <th>AGE</th>\n",
       "      <th>DIS</th>\n",
       "      <th>RAD</th>\n",
       "      <th>TAX</th>\n",
       "      <th>PTRATIO</th>\n",
       "      <th>B</th>\n",
       "      <th>LSTAT</th>\n",
       "      <th>target</th>\n",
       "    </tr>\n",
       "  </thead>\n",
       "  <tbody>\n",
       "    <tr>\n",
       "      <th>0</th>\n",
       "      <td>0.00632</td>\n",
       "      <td>18.0</td>\n",
       "      <td>2.31</td>\n",
       "      <td>0.0</td>\n",
       "      <td>0.538</td>\n",
       "      <td>6.575</td>\n",
       "      <td>65.2</td>\n",
       "      <td>4.0900</td>\n",
       "      <td>1.0</td>\n",
       "      <td>296.0</td>\n",
       "      <td>15.3</td>\n",
       "      <td>396.90</td>\n",
       "      <td>4.98</td>\n",
       "      <td>24.0</td>\n",
       "    </tr>\n",
       "    <tr>\n",
       "      <th>1</th>\n",
       "      <td>0.02731</td>\n",
       "      <td>0.0</td>\n",
       "      <td>7.07</td>\n",
       "      <td>0.0</td>\n",
       "      <td>0.469</td>\n",
       "      <td>6.421</td>\n",
       "      <td>78.9</td>\n",
       "      <td>4.9671</td>\n",
       "      <td>2.0</td>\n",
       "      <td>242.0</td>\n",
       "      <td>17.8</td>\n",
       "      <td>396.90</td>\n",
       "      <td>9.14</td>\n",
       "      <td>21.6</td>\n",
       "    </tr>\n",
       "    <tr>\n",
       "      <th>2</th>\n",
       "      <td>0.02729</td>\n",
       "      <td>0.0</td>\n",
       "      <td>7.07</td>\n",
       "      <td>0.0</td>\n",
       "      <td>0.469</td>\n",
       "      <td>7.185</td>\n",
       "      <td>61.1</td>\n",
       "      <td>4.9671</td>\n",
       "      <td>2.0</td>\n",
       "      <td>242.0</td>\n",
       "      <td>17.8</td>\n",
       "      <td>392.83</td>\n",
       "      <td>4.03</td>\n",
       "      <td>34.7</td>\n",
       "    </tr>\n",
       "    <tr>\n",
       "      <th>3</th>\n",
       "      <td>0.03237</td>\n",
       "      <td>0.0</td>\n",
       "      <td>2.18</td>\n",
       "      <td>0.0</td>\n",
       "      <td>0.458</td>\n",
       "      <td>6.998</td>\n",
       "      <td>45.8</td>\n",
       "      <td>6.0622</td>\n",
       "      <td>3.0</td>\n",
       "      <td>222.0</td>\n",
       "      <td>18.7</td>\n",
       "      <td>394.63</td>\n",
       "      <td>2.94</td>\n",
       "      <td>33.4</td>\n",
       "    </tr>\n",
       "    <tr>\n",
       "      <th>4</th>\n",
       "      <td>0.06905</td>\n",
       "      <td>0.0</td>\n",
       "      <td>2.18</td>\n",
       "      <td>0.0</td>\n",
       "      <td>0.458</td>\n",
       "      <td>7.147</td>\n",
       "      <td>54.2</td>\n",
       "      <td>6.0622</td>\n",
       "      <td>3.0</td>\n",
       "      <td>222.0</td>\n",
       "      <td>18.7</td>\n",
       "      <td>396.90</td>\n",
       "      <td>5.33</td>\n",
       "      <td>36.2</td>\n",
       "    </tr>\n",
       "  </tbody>\n",
       "</table>\n",
       "</div>"
      ],
      "text/plain": [
       "      CRIM    ZN  INDUS  CHAS    NOX     RM   AGE     DIS  RAD    TAX  \\\n",
       "0  0.00632  18.0   2.31   0.0  0.538  6.575  65.2  4.0900  1.0  296.0   \n",
       "1  0.02731   0.0   7.07   0.0  0.469  6.421  78.9  4.9671  2.0  242.0   \n",
       "2  0.02729   0.0   7.07   0.0  0.469  7.185  61.1  4.9671  2.0  242.0   \n",
       "3  0.03237   0.0   2.18   0.0  0.458  6.998  45.8  6.0622  3.0  222.0   \n",
       "4  0.06905   0.0   2.18   0.0  0.458  7.147  54.2  6.0622  3.0  222.0   \n",
       "\n",
       "   PTRATIO       B  LSTAT  target  \n",
       "0     15.3  396.90   4.98    24.0  \n",
       "1     17.8  396.90   9.14    21.6  \n",
       "2     17.8  392.83   4.03    34.7  \n",
       "3     18.7  394.63   2.94    33.4  \n",
       "4     18.7  396.90   5.33    36.2  "
      ]
     },
     "execution_count": 1,
     "metadata": {},
     "output_type": "execute_result"
    }
   ],
   "source": [
    "import cudf as pd\n",
    "from sklearn.datasets import load_boston\n",
    "boston = load_boston()\n",
    "df = pd.DataFrame(data=boston.data, columns = ['CRIM', 'ZN', 'INDUS', 'CHAS', 'NOX', 'RM', 'AGE', 'DIS', 'RAD',\n",
    "        'TAX', 'PTRATIO', 'B', 'LSTAT'])\n",
    "df['target'] = boston.target\n",
    "df.head(5)"
   ]
  },
  {
   "cell_type": "code",
   "execution_count": 2,
   "id": "ea799963",
   "metadata": {
    "execution": {
     "iopub.execute_input": "2022-02-21T05:13:58.911334Z",
     "iopub.status.busy": "2022-02-21T05:13:58.910630Z",
     "iopub.status.idle": "2022-02-21T05:13:59.150363Z",
     "shell.execute_reply": "2022-02-21T05:13:59.149859Z",
     "shell.execute_reply.started": "2022-02-21T05:13:19.948989Z"
    },
    "papermill": {
     "duration": 0.263384,
     "end_time": "2022-02-21T05:13:59.150531",
     "exception": false,
     "start_time": "2022-02-21T05:13:58.887147",
     "status": "completed"
    },
    "tags": []
   },
   "outputs": [],
   "source": [
    "import cupy as np\n",
    "X=df.iloc[:,0:13]\n",
    "Y=df.iloc[:,13]\n",
    "Y=np.array(Y)\n",
    "Y=Y.reshape(-1,1)"
   ]
  },
  {
   "cell_type": "code",
   "execution_count": 3,
   "id": "c34e56fd",
   "metadata": {
    "execution": {
     "iopub.execute_input": "2022-02-21T05:13:59.192389Z",
     "iopub.status.busy": "2022-02-21T05:13:59.191518Z",
     "iopub.status.idle": "2022-02-21T05:13:59.196655Z",
     "shell.execute_reply": "2022-02-21T05:13:59.196194Z",
     "shell.execute_reply.started": "2022-02-21T05:13:20.136197Z"
    },
    "papermill": {
     "duration": 0.027846,
     "end_time": "2022-02-21T05:13:59.196773",
     "exception": false,
     "start_time": "2022-02-21T05:13:59.168927",
     "status": "completed"
    },
    "tags": []
   },
   "outputs": [],
   "source": [
    "from sklearn.preprocessing import StandardScaler\n",
    "scaler=StandardScaler()\n",
    "X_scaled=scaler.fit_transform(X.as_matrix())"
   ]
  },
  {
   "cell_type": "code",
   "execution_count": 4,
   "id": "0420f6a6",
   "metadata": {
    "execution": {
     "iopub.execute_input": "2022-02-21T05:13:59.238663Z",
     "iopub.status.busy": "2022-02-21T05:13:59.238012Z",
     "iopub.status.idle": "2022-02-21T05:13:59.240747Z",
     "shell.execute_reply": "2022-02-21T05:13:59.241174Z",
     "shell.execute_reply.started": "2022-02-21T05:13:20.308600Z"
    },
    "papermill": {
     "duration": 0.026312,
     "end_time": "2022-02-21T05:13:59.241301",
     "exception": false,
     "start_time": "2022-02-21T05:13:59.214989",
     "status": "completed"
    },
    "tags": []
   },
   "outputs": [
    {
     "data": {
      "text/plain": [
       "array([[-0.41978194,  0.28482986, -1.2879095 , ..., -1.45900038,\n",
       "         0.44105193, -1.0755623 ],\n",
       "       [-0.41733926, -0.48772236, -0.59338101, ..., -0.30309415,\n",
       "         0.44105193, -0.49243937],\n",
       "       [-0.41734159, -0.48772236, -0.59338101, ..., -0.30309415,\n",
       "         0.39642699, -1.2087274 ],\n",
       "       ...,\n",
       "       [-0.41344658, -0.48772236,  0.11573841, ...,  1.17646583,\n",
       "         0.44105193, -0.98304761],\n",
       "       [-0.40776407, -0.48772236,  0.11573841, ...,  1.17646583,\n",
       "         0.4032249 , -0.86530163],\n",
       "       [-0.41500016, -0.48772236,  0.11573841, ...,  1.17646583,\n",
       "         0.44105193, -0.66905833]])"
      ]
     },
     "execution_count": 4,
     "metadata": {},
     "output_type": "execute_result"
    }
   ],
   "source": [
    "X_scaled"
   ]
  },
  {
   "cell_type": "code",
   "execution_count": 5,
   "id": "bf231832",
   "metadata": {
    "execution": {
     "iopub.execute_input": "2022-02-21T05:13:59.282996Z",
     "iopub.status.busy": "2022-02-21T05:13:59.282131Z",
     "iopub.status.idle": "2022-02-21T05:13:59.557730Z",
     "shell.execute_reply": "2022-02-21T05:13:59.557202Z",
     "shell.execute_reply.started": "2022-02-21T05:13:20.498616Z"
    },
    "papermill": {
     "duration": 0.298283,
     "end_time": "2022-02-21T05:13:59.557882",
     "exception": false,
     "start_time": "2022-02-21T05:13:59.259599",
     "status": "completed"
    },
    "tags": []
   },
   "outputs": [],
   "source": [
    "from sklearn.model_selection import train_test_split\n",
    "X_train, X_test, y_train, y_test = train_test_split(X_scaled, Y, test_size=0.3, random_state=42)"
   ]
  },
  {
   "cell_type": "code",
   "execution_count": 6,
   "id": "7136e95a",
   "metadata": {
    "execution": {
     "iopub.execute_input": "2022-02-21T05:13:59.597156Z",
     "iopub.status.busy": "2022-02-21T05:13:59.596348Z",
     "iopub.status.idle": "2022-02-21T05:13:59.603120Z",
     "shell.execute_reply": "2022-02-21T05:13:59.602560Z",
     "shell.execute_reply.started": "2022-02-21T05:13:20.698832Z"
    },
    "papermill": {
     "duration": 0.027589,
     "end_time": "2022-02-21T05:13:59.603270",
     "exception": false,
     "start_time": "2022-02-21T05:13:59.575681",
     "status": "completed"
    },
    "tags": []
   },
   "outputs": [
    {
     "name": "stdout",
     "output_type": "stream",
     "text": [
      "(354, 13)\n",
      "(152, 13)\n",
      "(354, 1)\n",
      "(152, 1)\n"
     ]
    }
   ],
   "source": [
    "print(X_train.shape)\n",
    "print(X_test.shape)\n",
    "print(y_train.shape)\n",
    "print(y_test.shape)"
   ]
  },
  {
   "cell_type": "code",
   "execution_count": 7,
   "id": "b31041c9",
   "metadata": {
    "execution": {
     "iopub.execute_input": "2022-02-21T05:13:59.645606Z",
     "iopub.status.busy": "2022-02-21T05:13:59.644957Z",
     "iopub.status.idle": "2022-02-21T05:14:00.127829Z",
     "shell.execute_reply": "2022-02-21T05:14:00.127289Z",
     "shell.execute_reply.started": "2022-02-21T05:13:20.990481Z"
    },
    "papermill": {
     "duration": 0.506329,
     "end_time": "2022-02-21T05:14:00.127969",
     "exception": false,
     "start_time": "2022-02-21T05:13:59.621640",
     "status": "completed"
    },
    "tags": []
   },
   "outputs": [],
   "source": [
    "import cuml\n",
    "from cuml import Ridge"
   ]
  },
  {
   "cell_type": "code",
   "execution_count": 8,
   "id": "38e5f57a",
   "metadata": {
    "execution": {
     "iopub.execute_input": "2022-02-21T05:14:00.168137Z",
     "iopub.status.busy": "2022-02-21T05:14:00.167301Z",
     "iopub.status.idle": "2022-02-21T05:14:00.169108Z",
     "shell.execute_reply": "2022-02-21T05:14:00.169579Z",
     "shell.execute_reply.started": "2022-02-21T05:13:21.400173Z"
    },
    "papermill": {
     "duration": 0.023878,
     "end_time": "2022-02-21T05:14:00.169709",
     "exception": false,
     "start_time": "2022-02-21T05:14:00.145831",
     "status": "completed"
    },
    "tags": []
   },
   "outputs": [],
   "source": [
    "method=['svd','eig']\n",
    "msql=[]\n",
    "mael=[]\n",
    "r2l=[]"
   ]
  },
  {
   "cell_type": "code",
   "execution_count": 9,
   "id": "94199a35",
   "metadata": {
    "execution": {
     "iopub.execute_input": "2022-02-21T05:14:00.211209Z",
     "iopub.status.busy": "2022-02-21T05:14:00.210630Z",
     "iopub.status.idle": "2022-02-21T05:14:05.783923Z",
     "shell.execute_reply": "2022-02-21T05:14:05.785165Z",
     "shell.execute_reply.started": "2022-02-21T05:13:21.686617Z"
    },
    "papermill": {
     "duration": 5.598099,
     "end_time": "2022-02-21T05:14:05.785396",
     "exception": false,
     "start_time": "2022-02-21T05:14:00.187297",
     "status": "completed"
    },
    "tags": []
   },
   "outputs": [
    {
     "name": "stdout",
     "output_type": "stream",
     "text": [
      "Coefficients:\n",
      "[-1.14691398  0.83432582  0.33940664  0.79163618 -1.78472664  2.84783956\n",
      " -0.30429309 -2.9156248   2.11139957 -1.46519873 -1.96963459  1.07567768\n",
      " -3.90310711]\n",
      "Intercept:\n",
      "22.509454717075215\n",
      "Coefficients:\n",
      "[-1.14691398  0.83432582  0.33940664  0.79163618 -1.78472664  2.84783956\n",
      " -0.30429309 -2.9156248   2.11139957 -1.46519873 -1.96963459  1.07567768\n",
      " -3.90310711]\n",
      "Intercept:\n",
      "22.509454717075215\n"
     ]
    }
   ],
   "source": [
    "import cuml\n",
    "for i in method:\n",
    "    alpha = np.array([1e-5])\n",
    "    ridge = Ridge(alpha = alpha, fit_intercept = True, normalize = False, solver = i)\n",
    "    result_ridge = ridge.fit(X_train, y_train)\n",
    "    print(\"Coefficients:\")\n",
    "    print(result_ridge.coef_)\n",
    "    print(\"Intercept:\")\n",
    "    print(result_ridge.intercept_)\n",
    "    preds = result_ridge.predict(X_test)\n",
    "    msq=cuml.metrics.regression.mean_squared_error(y_test,preds)\n",
    "    r2=cuml.metrics.regression.r2_score(y_test,preds)\n",
    "    err=cuml.metrics.regression.mean_absolute_error(y_test,preds)\n",
    "    msql.append(msq)\n",
    "    mael.append(err)\n",
    "    r2l.append(r2)\n",
    "   "
   ]
  },
  {
   "cell_type": "code",
   "execution_count": 10,
   "id": "3f89a448",
   "metadata": {
    "execution": {
     "iopub.execute_input": "2022-02-21T05:14:05.852655Z",
     "iopub.status.busy": "2022-02-21T05:14:05.851743Z",
     "iopub.status.idle": "2022-02-21T05:14:05.858885Z",
     "shell.execute_reply": "2022-02-21T05:14:05.859460Z",
     "shell.execute_reply.started": "2022-02-21T05:13:22.109044Z"
    },
    "papermill": {
     "duration": 0.043152,
     "end_time": "2022-02-21T05:14:05.859641",
     "exception": false,
     "start_time": "2022-02-21T05:14:05.816489",
     "status": "completed"
    },
    "tags": []
   },
   "outputs": [],
   "source": [
    "ridge_df=pd.DataFrame(method,columns=['Algorithm'])"
   ]
  },
  {
   "cell_type": "code",
   "execution_count": 11,
   "id": "c04b3af2",
   "metadata": {
    "execution": {
     "iopub.execute_input": "2022-02-21T05:14:05.922825Z",
     "iopub.status.busy": "2022-02-21T05:14:05.922026Z",
     "iopub.status.idle": "2022-02-21T05:14:05.930063Z",
     "shell.execute_reply": "2022-02-21T05:14:05.930531Z",
     "shell.execute_reply.started": "2022-02-21T05:13:22.609193Z"
    },
    "papermill": {
     "duration": 0.041359,
     "end_time": "2022-02-21T05:14:05.930665",
     "exception": false,
     "start_time": "2022-02-21T05:14:05.889306",
     "status": "completed"
    },
    "tags": []
   },
   "outputs": [],
   "source": [
    "ridge_df['mean square error']=msql\n",
    "ridge_df['mean absolute error']=mael\n",
    "ridge_df['r2 score']=r2l"
   ]
  },
  {
   "cell_type": "code",
   "execution_count": 12,
   "id": "ad42de02",
   "metadata": {
    "execution": {
     "iopub.execute_input": "2022-02-21T05:14:05.972168Z",
     "iopub.status.busy": "2022-02-21T05:14:05.971612Z",
     "iopub.status.idle": "2022-02-21T05:14:05.987737Z",
     "shell.execute_reply": "2022-02-21T05:14:05.987291Z",
     "shell.execute_reply.started": "2022-02-21T05:13:23.447226Z"
    },
    "papermill": {
     "duration": 0.038828,
     "end_time": "2022-02-21T05:14:05.987861",
     "exception": false,
     "start_time": "2022-02-21T05:14:05.949033",
     "status": "completed"
    },
    "tags": []
   },
   "outputs": [
    {
     "data": {
      "text/html": [
       "<div>\n",
       "<style scoped>\n",
       "    .dataframe tbody tr th:only-of-type {\n",
       "        vertical-align: middle;\n",
       "    }\n",
       "\n",
       "    .dataframe tbody tr th {\n",
       "        vertical-align: top;\n",
       "    }\n",
       "\n",
       "    .dataframe thead th {\n",
       "        text-align: right;\n",
       "    }\n",
       "</style>\n",
       "<table border=\"1\" class=\"dataframe\">\n",
       "  <thead>\n",
       "    <tr style=\"text-align: right;\">\n",
       "      <th></th>\n",
       "      <th>Algorithm</th>\n",
       "      <th>mean square error</th>\n",
       "      <th>mean absolute error</th>\n",
       "      <th>r2 score</th>\n",
       "    </tr>\n",
       "  </thead>\n",
       "  <tbody>\n",
       "    <tr>\n",
       "      <th>0</th>\n",
       "      <td>svd</td>\n",
       "      <td>139.59932</td>\n",
       "      <td>8.983415</td>\n",
       "      <td>0.711226</td>\n",
       "    </tr>\n",
       "    <tr>\n",
       "      <th>1</th>\n",
       "      <td>eig</td>\n",
       "      <td>139.59932</td>\n",
       "      <td>8.983415</td>\n",
       "      <td>0.711226</td>\n",
       "    </tr>\n",
       "  </tbody>\n",
       "</table>\n",
       "</div>"
      ],
      "text/plain": [
       "  Algorithm  mean square error  mean absolute error  r2 score\n",
       "0       svd          139.59932             8.983415  0.711226\n",
       "1       eig          139.59932             8.983415  0.711226"
      ]
     },
     "execution_count": 12,
     "metadata": {},
     "output_type": "execute_result"
    }
   ],
   "source": [
    "ridge_df"
   ]
  },
  {
   "cell_type": "code",
   "execution_count": 13,
   "id": "da9ec49d",
   "metadata": {
    "execution": {
     "iopub.execute_input": "2022-02-21T05:14:06.030078Z",
     "iopub.status.busy": "2022-02-21T05:14:06.029289Z",
     "iopub.status.idle": "2022-02-21T05:14:06.031061Z",
     "shell.execute_reply": "2022-02-21T05:14:06.031477Z",
     "shell.execute_reply.started": "2022-02-21T05:13:24.389489Z"
    },
    "papermill": {
     "duration": 0.02475,
     "end_time": "2022-02-21T05:14:06.031604",
     "exception": false,
     "start_time": "2022-02-21T05:14:06.006854",
     "status": "completed"
    },
    "tags": []
   },
   "outputs": [],
   "source": [
    "from cuml.linear_model import Lasso"
   ]
  },
  {
   "cell_type": "code",
   "execution_count": 14,
   "id": "2845aa4c",
   "metadata": {
    "execution": {
     "iopub.execute_input": "2022-02-21T05:14:06.074496Z",
     "iopub.status.busy": "2022-02-21T05:14:06.073635Z",
     "iopub.status.idle": "2022-02-21T05:14:06.075459Z",
     "shell.execute_reply": "2022-02-21T05:14:06.075904Z",
     "shell.execute_reply.started": "2022-02-21T05:13:24.615342Z"
    },
    "papermill": {
     "duration": 0.025831,
     "end_time": "2022-02-21T05:14:06.076032",
     "exception": false,
     "start_time": "2022-02-21T05:14:06.050201",
     "status": "completed"
    },
    "tags": []
   },
   "outputs": [],
   "source": [
    "alpha=[0.1,0.2,0.3,0.4,0.5,0.6,0.7,0.8,0.9,1]\n",
    "msql=[]\n",
    "mael=[]\n",
    "r2l=[]"
   ]
  },
  {
   "cell_type": "code",
   "execution_count": 15,
   "id": "e62dfbd8",
   "metadata": {
    "execution": {
     "iopub.execute_input": "2022-02-21T05:14:06.273401Z",
     "iopub.status.busy": "2022-02-21T05:14:06.253515Z",
     "iopub.status.idle": "2022-02-21T05:14:06.396592Z",
     "shell.execute_reply": "2022-02-21T05:14:06.397207Z",
     "shell.execute_reply.started": "2022-02-21T05:13:24.834919Z"
    },
    "papermill": {
     "duration": 0.302776,
     "end_time": "2022-02-21T05:14:06.397442",
     "exception": false,
     "start_time": "2022-02-21T05:14:06.094666",
     "status": "completed"
    },
    "tags": []
   },
   "outputs": [
    {
     "name": "stdout",
     "output_type": "stream",
     "text": [
      "Coefficients:\n",
      "[-0.82672061  0.39323408  0.          0.80490657 -1.28995831  2.93306839\n",
      " -0.11769109 -2.12965495  0.51459017 -0.04896216 -1.8254361   0.95338885\n",
      " -3.93544882]\n",
      "intercept:\n",
      "22.513044683878363\n",
      "Coefficients:\n",
      "[-0.54652291  0.13003542  0.          0.76453477 -0.72479815  2.98159353\n",
      "  0.         -1.40732985  0.          0.         -1.6527983   0.82881074\n",
      " -3.95660984]\n",
      "intercept:\n",
      "22.523952671727482\n",
      "Coefficients:\n",
      "[-0.46120429  0.          0.          0.69707703 -0.32009511  2.97395305\n",
      "  0.         -0.86570225  0.          0.         -1.59411247  0.77083289\n",
      " -3.96966607]\n",
      "intercept:\n",
      "22.532051396235357\n",
      "Coefficients:\n",
      "[-0.38310237  0.          0.          0.63348026  0.          2.95238037\n",
      "  0.         -0.4563307   0.          0.         -1.51542782  0.70882843\n",
      " -3.96107774]\n",
      "intercept:\n",
      "22.54307351782099\n",
      "Coefficients:\n",
      "[-0.2859226   0.          0.          0.5900941   0.          2.9194825\n",
      "  0.         -0.24375816  0.          0.         -1.46579062  0.61515701\n",
      " -3.87002576]\n",
      "intercept:\n",
      "22.56044509612627\n",
      "Coefficients:\n",
      "[-0.18750167  0.          0.          0.54664319  0.          2.88722436\n",
      "  0.         -0.03056797  0.          0.         -1.41666703  0.52234637\n",
      " -3.77830961]\n",
      "intercept:\n",
      "22.577760525466708\n",
      "Coefficients:\n",
      "[-0.12394897  0.          0.          0.47437993  0.          2.83901771\n",
      "  0.          0.          0.          0.         -1.37410638  0.44695026\n",
      " -3.7658628 ]\n",
      "intercept:\n",
      "22.589684840514376\n",
      "Coefficients:\n",
      "[-0.06624432  0.          0.          0.39738866  0.          2.78847253\n",
      "  0.          0.          0.          0.         -1.3328981   0.37470495\n",
      " -3.76629   ]\n",
      "intercept:\n",
      "22.60066977848704\n",
      "Coefficients:\n",
      "[-0.00850719  0.          0.          0.32026833  0.          2.73855466\n",
      "  0.          0.          0.          0.         -1.29185005  0.30280223\n",
      " -3.76617833]\n",
      "intercept:\n",
      "22.61161374854554\n",
      "Coefficients:\n",
      "[ 0.          0.          0.          0.24385267  0.          2.69196476\n",
      "  0.          0.          0.          0.         -1.24284889  0.22178242\n",
      " -3.75013224]\n",
      "intercept:\n",
      "22.623002036957825\n"
     ]
    }
   ],
   "source": [
    "for i in alpha:\n",
    "    ls = Lasso(alpha = i)\n",
    "    result_lasso = ls.fit(X_train, y_train)\n",
    "    print(\"Coefficients:\")\n",
    "    print(result_lasso.coef_)\n",
    "    print(\"intercept:\")\n",
    "    print(result_lasso.intercept_)\n",
    "    preds = result_lasso.predict(X_test)\n",
    "    msq=cuml.metrics.regression.mean_squared_error(y_test,preds)\n",
    "    r2=cuml.metrics.regression.r2_score(y_test,preds)\n",
    "    err=cuml.metrics.regression.mean_absolute_error(y_test,preds)\n",
    "    msql.append(msq)\n",
    "    mael.append(err)\n",
    "    r2l.append(r2)\n",
    "\n",
    "    \n",
    "    "
   ]
  },
  {
   "cell_type": "code",
   "execution_count": 16,
   "id": "ed6e2b74",
   "metadata": {
    "execution": {
     "iopub.execute_input": "2022-02-21T05:14:06.442929Z",
     "iopub.status.busy": "2022-02-21T05:14:06.442067Z",
     "iopub.status.idle": "2022-02-21T05:14:06.445879Z",
     "shell.execute_reply": "2022-02-21T05:14:06.445390Z",
     "shell.execute_reply.started": "2022-02-21T05:13:25.017754Z"
    },
    "papermill": {
     "duration": 0.027716,
     "end_time": "2022-02-21T05:14:06.445991",
     "exception": false,
     "start_time": "2022-02-21T05:14:06.418275",
     "status": "completed"
    },
    "tags": []
   },
   "outputs": [],
   "source": [
    "lass_df=pd.DataFrame(alpha,columns=['Alpha'])"
   ]
  },
  {
   "cell_type": "code",
   "execution_count": 17,
   "id": "24cbe584",
   "metadata": {
    "execution": {
     "iopub.execute_input": "2022-02-21T05:14:06.491166Z",
     "iopub.status.busy": "2022-02-21T05:14:06.490414Z",
     "iopub.status.idle": "2022-02-21T05:14:06.765362Z",
     "shell.execute_reply": "2022-02-21T05:14:06.765881Z",
     "shell.execute_reply.started": "2022-02-21T05:13:25.267886Z"
    },
    "papermill": {
     "duration": 0.299638,
     "end_time": "2022-02-21T05:14:06.766047",
     "exception": false,
     "start_time": "2022-02-21T05:14:06.466409",
     "status": "completed"
    },
    "tags": []
   },
   "outputs": [
    {
     "data": {
      "text/html": [
       "<div>\n",
       "<style scoped>\n",
       "    .dataframe tbody tr th:only-of-type {\n",
       "        vertical-align: middle;\n",
       "    }\n",
       "\n",
       "    .dataframe tbody tr th {\n",
       "        vertical-align: top;\n",
       "    }\n",
       "\n",
       "    .dataframe thead th {\n",
       "        text-align: right;\n",
       "    }\n",
       "</style>\n",
       "<table border=\"1\" class=\"dataframe\">\n",
       "  <thead>\n",
       "    <tr style=\"text-align: right;\">\n",
       "      <th></th>\n",
       "      <th>Alpha</th>\n",
       "      <th>mean square error</th>\n",
       "      <th>mean absolute error</th>\n",
       "      <th>r2 score</th>\n",
       "    </tr>\n",
       "  </thead>\n",
       "  <tbody>\n",
       "    <tr>\n",
       "      <th>0</th>\n",
       "      <td>0.1</td>\n",
       "      <td>133.076405</td>\n",
       "      <td>8.773180</td>\n",
       "      <td>0.694318</td>\n",
       "    </tr>\n",
       "    <tr>\n",
       "      <th>1</th>\n",
       "      <td>0.2</td>\n",
       "      <td>129.072476</td>\n",
       "      <td>8.639153</td>\n",
       "      <td>0.680631</td>\n",
       "    </tr>\n",
       "    <tr>\n",
       "      <th>2</th>\n",
       "      <td>0.3</td>\n",
       "      <td>126.448094</td>\n",
       "      <td>8.547183</td>\n",
       "      <td>0.671090</td>\n",
       "    </tr>\n",
       "    <tr>\n",
       "      <th>3</th>\n",
       "      <td>0.4</td>\n",
       "      <td>124.306198</td>\n",
       "      <td>8.471644</td>\n",
       "      <td>0.662904</td>\n",
       "    </tr>\n",
       "    <tr>\n",
       "      <th>4</th>\n",
       "      <td>0.5</td>\n",
       "      <td>122.242198</td>\n",
       "      <td>8.403012</td>\n",
       "      <td>0.660372</td>\n",
       "    </tr>\n",
       "    <tr>\n",
       "      <th>5</th>\n",
       "      <td>0.6</td>\n",
       "      <td>120.311621</td>\n",
       "      <td>8.337624</td>\n",
       "      <td>0.656076</td>\n",
       "    </tr>\n",
       "    <tr>\n",
       "      <th>6</th>\n",
       "      <td>0.7</td>\n",
       "      <td>118.576353</td>\n",
       "      <td>8.273646</td>\n",
       "      <td>0.654003</td>\n",
       "    </tr>\n",
       "    <tr>\n",
       "      <th>7</th>\n",
       "      <td>0.8</td>\n",
       "      <td>116.923371</td>\n",
       "      <td>8.211475</td>\n",
       "      <td>0.651669</td>\n",
       "    </tr>\n",
       "    <tr>\n",
       "      <th>8</th>\n",
       "      <td>0.9</td>\n",
       "      <td>115.337842</td>\n",
       "      <td>8.151556</td>\n",
       "      <td>0.648476</td>\n",
       "    </tr>\n",
       "    <tr>\n",
       "      <th>9</th>\n",
       "      <td>1.0</td>\n",
       "      <td>113.893723</td>\n",
       "      <td>8.096987</td>\n",
       "      <td>0.644554</td>\n",
       "    </tr>\n",
       "  </tbody>\n",
       "</table>\n",
       "</div>"
      ],
      "text/plain": [
       "   Alpha  mean square error  mean absolute error  r2 score\n",
       "0    0.1         133.076405             8.773180  0.694318\n",
       "1    0.2         129.072476             8.639153  0.680631\n",
       "2    0.3         126.448094             8.547183  0.671090\n",
       "3    0.4         124.306198             8.471644  0.662904\n",
       "4    0.5         122.242198             8.403012  0.660372\n",
       "5    0.6         120.311621             8.337624  0.656076\n",
       "6    0.7         118.576353             8.273646  0.654003\n",
       "7    0.8         116.923371             8.211475  0.651669\n",
       "8    0.9         115.337842             8.151556  0.648476\n",
       "9    1.0         113.893723             8.096987  0.644554"
      ]
     },
     "execution_count": 17,
     "metadata": {},
     "output_type": "execute_result"
    }
   ],
   "source": [
    "lass_df['mean square error']=msql\n",
    "lass_df['mean absolute error']=mael\n",
    "lass_df['r2 score']=r2l\n",
    "lass_df"
   ]
  },
  {
   "cell_type": "code",
   "execution_count": null,
   "id": "cfbb7dab",
   "metadata": {
    "papermill": {
     "duration": 0.021689,
     "end_time": "2022-02-21T05:14:06.809570",
     "exception": false,
     "start_time": "2022-02-21T05:14:06.787881",
     "status": "completed"
    },
    "tags": []
   },
   "outputs": [],
   "source": []
  },
  {
   "cell_type": "code",
   "execution_count": null,
   "id": "e518a225",
   "metadata": {
    "papermill": {
     "duration": 0.022634,
     "end_time": "2022-02-21T05:14:06.854423",
     "exception": false,
     "start_time": "2022-02-21T05:14:06.831789",
     "status": "completed"
    },
    "tags": []
   },
   "outputs": [],
   "source": []
  },
  {
   "cell_type": "code",
   "execution_count": null,
   "id": "f5e59b32",
   "metadata": {
    "papermill": {
     "duration": 0.02175,
     "end_time": "2022-02-21T05:14:06.898978",
     "exception": false,
     "start_time": "2022-02-21T05:14:06.877228",
     "status": "completed"
    },
    "tags": []
   },
   "outputs": [],
   "source": []
  }
 ],
 "metadata": {
  "kernelspec": {
   "display_name": "Python 3",
   "language": "python",
   "name": "python3"
  },
  "language_info": {
   "codemirror_mode": {
    "name": "ipython",
    "version": 3
   },
   "file_extension": ".py",
   "mimetype": "text/x-python",
   "name": "python",
   "nbconvert_exporter": "python",
   "pygments_lexer": "ipython3",
   "version": "3.7.12"
  },
  "papermill": {
   "default_parameters": {},
   "duration": 23.980418,
   "end_time": "2022-02-21T05:14:08.234016",
   "environment_variables": {},
   "exception": null,
   "input_path": "__notebook__.ipynb",
   "output_path": "__notebook__.ipynb",
   "parameters": {},
   "start_time": "2022-02-21T05:13:44.253598",
   "version": "2.3.3"
  }
 },
 "nbformat": 4,
 "nbformat_minor": 5
}
